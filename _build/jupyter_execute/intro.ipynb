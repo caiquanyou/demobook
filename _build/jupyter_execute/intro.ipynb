{
 "cells": [
  {
   "cell_type": "markdown",
   "id": "d63f1bf9",
   "metadata": {},
   "source": [
    "#  Bioinformatic analysis \n",
    "\n",
    "[![Jupyter Book Badge](https://jupyterbook.org/badge.svg)](https://bioimagebook.github.io)  \n",
    "Jupyter Book 可以直接使用`.ipynb`或者`.md`为结尾的文档作为每个章节的内容，升级维护简单，也便于使用；\n",
    "大家可以分享自己的代码/分析原理/作图/数理统计等相关内容的文件，并逐渐汇总成一本完整的贴合我们日常生物信息分析的书籍。\n",
    "\n",
    "---\n",
    "::::{grid} 2\n",
    ":reverse:\n",
    "\n",
    ":::{grid-item}\n",
    ":columns: 4\n",
    ":class: sd-m-auto\n",
    ":::\n",
    "\n",
    "::::\n",
    "\n",
    "::::{grid} 1 1 2 2\n",
    ":class-container: text-center\n",
    ":gutter: 3\n",
    "\n",
    ":::{grid-item-card}\n",
    ":link: chapt/转录组分析/转录组分析\n",
    ":link-type: doc\n",
    ":class-header: bg-light\n",
    "\n",
    "**分析流程** ✍\n",
    "^^^\n",
    "\n",
    "在「分析流程」中，提供了常规的[**<font color=\"orangered\">转录组分析</font>**](chapt/转录组分析/RNAse.md)和[**<font color=\"orangered\">表观组分析</font>**](chapt/转录组分析/RNAse.md)！，欢迎参与贡献更多的分析脚本！\n",
    ":::\n",
    "\n",
    ":::{grid-item-card}\n",
    ":link: chapt/python作图/plot.md\n",
    ":link-type: doc\n",
    ":class-header: bg-light\n",
    "\n",
    "**可视化** ✍\n",
    "^^^\n",
    "\n",
    "为了方便平常分析中快速上手 进行对应的可视化，这个部分希望基于matplotlib/ggplot等常用可视化工具做一些快速、全面的介绍，以期望用户可以[快速上手](chapt/python作图/plot.md)。\n",
    "\n",
    ":::\n",
    "\n",
    ":::{grid-item-card}\n",
    ":link: chapt/数理统计/数学分布.md\n",
    ":link-type: doc\n",
    ":class-header: bg-light\n",
    "\n",
    "**实验/算法原理** 🚀\n",
    "^^^\n",
    "\n",
    "在「原理」中，希望对常用的技术或者算法原理进行系统整理学习，从基础的[数理统计](chapt/数理统计/数学分布.md)到进阶的机器学习/深度学习等原理逐步涵盖，可以将其视为一份教程亦或是作速查手册。\n",
    "\n",
    ":::\n",
    "\n",
    ":::{grid-item-card}\n",
    ":link: chapt/文献/S1_Cell2location\n",
    ":link-type: doc\n",
    ":class-header: bg-light\n",
    "\n",
    "**文献分享** 🎨\n",
    "^^^\n",
    "\n",
    "希在该章节，进行日常一些文献精读/实操的分享，也可发展为一些常规技术/算法的速查手册。\n",
    ":::"
   ]
  }
 ],
 "metadata": {
  "jupytext": {
   "formats": "ipynb,md:myst",
   "text_representation": {
    "extension": ".md",
    "format_name": "myst"
   }
  },
  "kernelspec": {
   "display_name": "Python 3",
   "language": "python",
   "name": "python3"
  },
  "language_info": {
   "codemirror_mode": {
    "name": "ipython",
    "version": 3
   },
   "file_extension": ".py",
   "mimetype": "text/x-python",
   "name": "python",
   "nbconvert_exporter": "python",
   "pygments_lexer": "ipython3",
   "version": "3.9.7"
  },
  "source_map": [
   11
  ]
 },
 "nbformat": 4,
 "nbformat_minor": 5
}