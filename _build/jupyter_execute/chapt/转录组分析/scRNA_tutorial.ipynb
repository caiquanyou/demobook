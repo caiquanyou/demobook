{
 "cells": [
  {
   "cell_type": "raw",
   "id": "dff7d316",
   "metadata": {
    "lines_to_next_cell": 0
   },
   "source": [
    "---\n",
    "title: \"Single-Cell RNA Sequencing Analysis\"\n",
    "author: \"Huijian Feng\"\n",
    "date: \"2020/8/5\"\n",
    "output:\n",
    "  html_document:\n",
    "    theme: cosmo\n",
    "    highlight: pygments\n",
    "    toc: yes\n",
    "    toc_float: yes\n",
    "---"
   ]
  },
  {
   "cell_type": "markdown",
   "id": "adf08b72",
   "metadata": {},
   "source": [
    "<style type=\"text/css\">\n",
    "body{ /* Normal  */\n",
    "     font-family: times, serif;\n",
    "     font-size:16px;\n",
    "     }\n",
    ".author{ /* author */\n",
    "        font-style:italic\n",
    "        }\n",
    ".date{ /* date */\n",
    "      font-style:italic\n",
    "      }\n",
    "td{ /* Table */ \n",
    "   font-size: 8px;\n",
    "   }\n",
    "code.r{ /* Code block */\n",
    "       font-size: 14px;\n",
    "       }\n",
    "pre{ /* Code block - determines code spacing between lines */\n",
    "    font-size: 14px;\n",
    "    }\n",
    "</style>"
   ]
  },
  {
   "cell_type": "code",
   "execution_count": 1,
   "id": "b1929159",
   "metadata": {
    "name": "setup",
    "tags": [
     "remove_cell"
    ]
   },
   "outputs": [],
   "source": [
    "knitr::opts_chunk$set(echo = TRUE)\n",
    "knitr::opts_knit$set(root.dir = \"D:/Tutorial/scRNA_seq_tutorial\")"
   ]
  },
  {
   "cell_type": "markdown",
   "id": "b3a7398b",
   "metadata": {
    "lines_to_next_cell": 0,
    "tags": []
   },
   "source": [
    "# Single-Cell RNA Sequencing Analysis\n",
    "## 1. Introduction\n",
    "___\n",
    "This tutorial provides an approach to basic analysis for single-cell RNA sequencing data:\n",
    "\n",
    "1. Data pre-processing\n",
    "* QC and selecting cells\n",
    "* Normalizing the data\n",
    "* Identifying high variable genes(feature selection)\n",
    "* Scaling the data\n",
    "\n",
    "2. Linear dimensional reduction\n",
    "* PCA\n",
    "* Determine dimensionality of PCs\n",
    "\n",
    "3. Cluster the cells\n",
    "\n",
    "4. Visualization\n",
    "\n",
    "5. Differentially expressed genes\n",
    "\n",
    "6. Identify the cell types\n",
    "\n",
    "7. Enrichment analysis\n",
    "* Gene Ontology\n",
    "* Pathway Enrichment\n",
    "\n",
    "This tutorial refers to [Seurat](https://satijalab.org/seurat/v3.0/pbmc3k_tutorial.html), a software(package) for analyzing single-cell RNA seq data in R.\n",
    "\n",
    "Feel free to contact me if you have any questions.\n",
    "Email: feng_huijian@gibh.ac.cn\n",
    "Wechat: rick__sanchez__\n",
    "\n",
    "## 2. Preparation\n",
    "___\n",
    "\n",
    "### 2.1 Software\n",
    "All the anaylsis below relies on the `R` environment. Please download R and related software before the coures.\n",
    "\n",
    "We select the tsinghua mirror to download R\n",
    "\n",
    "1. Download and install [R](https://mirrors.tuna.tsinghua.edu.cn/CRAN/)\n",
    "* Windows user: Please click `Download R for Windows`, and then click `install R for the first time`.\n",
    "* Mac user: Please click `Download R for (Mac) OS X`, and then click `R-3.6.1.pkg`.\n",
    "2. Download and install [Rstudio](https://www.rstudio.com/products/rstudio/download/), and then select `RStudio Desktop Open Source License FREE` to download Windows Version `RStudio 1.3.1056 - Windows 7+ (64-bit)` or Mac Version `RStudio 1.3.1056 - macOS 10.13+ (64-bit)`\n",
    "3. Install the R packages for the following analysis.\n",
    "  \n",
    "   We also use the tsinghua mirror to download R packages for saving times and avoiding the unnecessary Error. Open the areadly installed Rstudio. Paste and execute\n",
    "   the code elow in the Console panel:"
   ]
  },
  {
   "cell_type": "code",
   "execution_count": 2,
   "id": "d0fae30e",
   "metadata": {
    "message": false,
    "warning": false
   },
   "outputs": [
    {
     "name": "stderr",
     "output_type": "stream",
     "text": [
      "Loading required namespace: BiocManager\n",
      "\n"
     ]
    }
   ],
   "source": [
    "# rcran\n",
    "options(\"repos\" = c(CRAN=\"https://mirrors.tuna.tsinghua.edu.cn/CRAN/\"))\n",
    "\n",
    "# install bioconductor library.\n",
    "options(\"repos\" = c(CRAN=\"https://mirrors.tuna.tsinghua.edu.cn/CRAN/\"))\n",
    "if (!requireNamespace(\"BiocManager\"))\n",
    "  install.packages(\"BiocManager\")\n",
    "# bioconductor\n",
    "options(useHTTPS=FALSE, BioC_mirror=\"http://mirrors.tuna.tsinghua.edu.cn/bioconductor/\")\n",
    "\n",
    "# A function: intalling the packages to R ->IPR\n",
    "IPR <- function(packages, \n",
    "                sources = c(\"RCran\", \"Bioconductor\", \"Github\")){\n",
    "  installedpackages <- installed.packages()[ ,\"Package\"]\n",
    "  existpackages <- intersect(packages, installedpackages)\n",
    "  if(length(existpackages) != 0){\n",
    "    print(paste0(\"Packages \", existpackages, \" have been installed\"))\n",
    "    }\n",
    "  newpackages <- setdiff(packages, installedpackages)\n",
    "  if(length(newpackages) != 0){\n",
    "    if(sources == \"RCran\"){\n",
    "      install.packages(newpackages)\n",
    "      }\n",
    "    if(sources == \"Bioconductor\"){\n",
    "      BiocManager::install(newpackages)\n",
    "      }\n",
    "    if(sources == \"Github\"){\n",
    "      devtools::install_github(newpackages)\n",
    "      }\n",
    "    }\n",
    "}\n",
    "\n",
    "# R CRAN packages\n",
    "# rpkg <- c(\"dplyr\",\"ggplot2\",\"matrixStats\",\"pheatmap\",\"DT\",\"data.table\", \"Seurat\")\n",
    "# IPR(packages = rpkg, sources = \"RCran\")\n",
    "\n",
    "# Bioconductor packages\n",
    "# biopkg <- c(\"clusterProfiler\", \"org.Mm.eg.db\", \"org.Hs.eg.db\", \"genefilter\", \"ReactomePA\")\n",
    "# IPR(packages = biopkg, sources = \"Bioconductor\")\n",
    "   "
   ]
  },
  {
   "cell_type": "markdown",
   "id": "852e9ca0",
   "metadata": {
    "lines_to_next_cell": 0
   },
   "source": [
    "### 2.2 Data\n",
    "In this tutorial, we provide a dataset Peripheral Blood Mononuclear Cells(PBMC) freely available from [10X Genomics](https://www.10xgenomics.com/). There are ~5k single cells that were sequencing on the Illumina NextSeq500. You can download the data from the 10X Genomics.\n",
    "\n",
    "1. Open 10X official website for [downloading data](https://www.10xgenomics.com/10x-university/single-cell/).\n",
    "2. Select section `DATASETS` and `click View all`.\n",
    "3. When you enter this page, you should fill in the relevant information: `Name`, `Your Email`, `Institution`, `Country`. Click no for “receive update” and agree the “Privacy Policy”.\n",
    "4. Select **5k Peripheral blood mononuclear cells (PBMCs) from a healthy donor (v3 chemistry)**. And then select `Feature / cell matrix (filtered)`. **Warning**: This Object size is 41.21 MB.\n",
    "\n",
    "And then you should extract the **compressed file** into a directory, such as `D:/Tutorial/scRNA_seq_tutorial/counts/filtered_feature_bc_matrix`(this directory need to be created).\n",
    "\n",
    "Then, we can check how the 10X single-cell RNA seq data is stored. we open the directory`D:/Tutorial/scRNA_seq_tutorial/counts/filtered_feature_bc_matrix`, and we will find that three compressed files store their respective files:\n",
    "\n",
    "* barcodes.tsv.gz is used to store the information of each cell barcode. In general, it store the name of each single-cell.\n",
    "* features.tsv.gz is used to store the genetic information obtained by sequencing.\n",
    "* matrix.mtx.gz is used to store the data of single-cell expressed genes, and it is a storage format for sparse matrices using the Coordinate Format([COO](scc.ustc.edu.cn/zlsc/sugon/intel/mkl/mkl_manual/GUID-9FCEB1C4-670D-4738-81D2-F378013412B0.html) If you are interested in this format, click it.)\n",
    "\n",
    "## 3. Start\n",
    "___\n",
    "\n",
    "### 3.1 Load Packages\n",
    "We load the packages by calling `library()` at firt."
   ]
  },
  {
   "cell_type": "code",
   "execution_count": 3,
   "id": "8435ee1d",
   "metadata": {
    "message": false,
    "warning": false
   },
   "outputs": [
    {
     "name": "stderr",
     "output_type": "stream",
     "text": [
      "Attaching SeuratObject\n",
      "\n"
     ]
    },
    {
     "name": "stderr",
     "output_type": "stream",
     "text": [
      "\n",
      "Attaching package: ‘dplyr’\n",
      "\n",
      "\n"
     ]
    },
    {
     "name": "stderr",
     "output_type": "stream",
     "text": [
      "The following objects are masked from ‘package:stats’:\n",
      "\n",
      "    filter, lag\n",
      "\n",
      "\n"
     ]
    },
    {
     "name": "stderr",
     "output_type": "stream",
     "text": [
      "The following objects are masked from ‘package:base’:\n",
      "\n",
      "    intersect, setdiff, setequal, union\n",
      "\n",
      "\n"
     ]
    },
    {
     "ename": "ERROR",
     "evalue": "Error in library(clusterProfiler): there is no package called ‘clusterProfiler’\n",
     "output_type": "error",
     "traceback": [
      "Error in library(clusterProfiler): there is no package called ‘clusterProfiler’\nTraceback:\n",
      "1. library(clusterProfiler)"
     ]
    }
   ],
   "source": [
    "library(Seurat)\n",
    "library(dplyr) \n",
    "library(ggplot2)\n",
    "library(RColorBrewer)\n",
    "library(cowplot)\n",
    "library(clusterProfiler)\n",
    "library(genefilter)\n",
    "library(ReactomePA)\n",
    "library(DT)\n",
    "library(plotly)"
   ]
  },
  {
   "cell_type": "markdown",
   "id": "9ace2863",
   "metadata": {},
   "source": [
    "### 3.2 Setup the Seurat Object\n",
    "\n",
    "At first, We have to set a correct working directory.\n",
    "\n",
    "Then we can load the data by calling `Read10X()`. This function can read the three files(barcodes.tsv.gz, features.tsv.gz, matrix.mtx.gz) in the directory at once.\n",
    "\n",
    "Then we can setup the seurat object by calling `CreateSeuratObject()`.\n",
    "\n",
    "We highly encourage querying the detail of a function by calling `help(function_name)` or`?function_name`, such as `help(CreateSeuratObject)`."
   ]
  },
  {
   "cell_type": "code",
   "execution_count": null,
   "id": "99f584c8",
   "metadata": {
    "message": false,
    "warning": false
   },
   "outputs": [],
   "source": [
    "## Example for set working directory\n",
    "## setwd(\"D:/singlecell_pratice\")\n",
    "\n",
    "## loading the data \n",
    "adata <- Read10X(\"./counts/filtered_feature_bc_matrix\")\n",
    "\n",
    "## create the seurat object\n",
    "adata <- CreateSeuratObject(counts = adata, \n",
    "                            project = \"sc_tutorial\",\n",
    "                            min.cells = 3,\n",
    "                            min.features = 200)\n",
    "# parameter counts : input the \"raws gene expression marix\"\n",
    "# parameter project : input the \"name of our project\"\n",
    "# parameter min.cells : exclude some \"genes\" which are expressed in less than 3 cells\n",
    "# parameter min.features : exclude some \"cells\" which are expressing less then 200 genes\n",
    "\n",
    "## view the data\n",
    "adata\n",
    "\n",
    "## An object of class Seurat \n",
    "## 19037 features across 5100 samples within 1 assay \n",
    "## Active assay: RNA (19037 features)"
   ]
  },
  {
   "cell_type": "markdown",
   "id": "1b48149b",
   "metadata": {
    "tags": []
   },
   "source": [
    "## 4. Data pre-processing\n",
    "___\n",
    "These workflow represent the selection and filtration of cells based on QC metrics, data normalization and data scaling, and the detection of highly variable genes.\n",
    "\n",
    "### 4.1 QC and selecting cells\n",
    "Seurat provides simple QC metrics and allow you to filter cells based on user-defined criterion. A few [QC metrics](https://www.ncbi.nlm.nih.gov/pmc/articles/PMC4758103/) include commonly:\n",
    "\n",
    "* The number of unique genes detected in each cell(each droplet): \n",
    "  * Low-quality cells or empty droplets will often have very few gene\n",
    "  * Cell doublets or multiplets may have an aberrantly high gene count\n",
    "* The above assumptions also apply to the total number of molecules in each cell(each droplet).\n",
    "* The percentage of reads that map to the mitochondrial genome\n",
    "  * Low-quality or dying cells often exhibit extensive mitochondrial contamination\n",
    "\n",
    "we call `PercentageFeatureSet` to caculate the percentage of mitochondrial genes. Mitochondrial genes are a set genes which can be captured by matching the prefix `MT-`."
   ]
  },
  {
   "cell_type": "code",
   "execution_count": null,
   "id": "6406e746",
   "metadata": {
    "message": false,
    "warning": false
   },
   "outputs": [],
   "source": [
    "## caculate the percentage of mitochondrial genes\n",
    "adata[[\"percent.mt\"]] <- PercentageFeatureSet(adata, \n",
    "                                             pattern = \"^MT-\")\n",
    "# The [[ operator can add columns to object metadata. You can use \"adata[[]]\" to check object metadata.\n",
    "# parameter pattern : match regular expression. \"^MT-\" means that the gene with prefix \"MT-\"\n",
    "\n",
    "## function head() allow us to check the first 6 rows of data frame\n",
    "head(adata[[]])\n",
    "##                   orig.ident nCount_RNA nFeature_RNA percent.mt\n",
    "## AAACCCAAGACAGCTG sc_tutorial       8384         2550   9.148378\n",
    "## AAACCCAAGTTAACGA sc_tutorial      11768         3017   6.296737\n",
    "## AAACCCACAGTCGCAC sc_tutorial       6947         2033   5.570750\n",
    "## AAACCCAGTAGCTTGT sc_tutorial       9354         2193   7.750695\n",
    "## AAACCCATCTGCCCTA sc_tutorial       8970         2630   7.781494\n",
    "## AAACGAAAGCAATTAG sc_tutorial       9291         2286  11.634916"
   ]
  },
  {
   "cell_type": "markdown",
   "id": "702ca5ee",
   "metadata": {},
   "source": [
    "In this data, we visualize the QC metric and use these filter cells.\n",
    "\n",
    "`nCount_RNA` means that the total number of reads per cells map to the genome.\n",
    "`nFeature_RNA` means that the total number of genes expressed per cell.\n",
    "`percent.mt` means that the percentage of mitochondrial genes per cell.\n",
    "\n",
    "* we filter cells that have nFeature_RNA over 5000\n",
    "* we filter cells that have nFeature_RNA less than 200\n",
    "* we filter cells that have percent.mt over 20%"
   ]
  },
  {
   "cell_type": "code",
   "execution_count": null,
   "id": "c93f5d2c",
   "metadata": {
    "message": false,
    "warning": false
   },
   "outputs": [],
   "source": [
    "## Check the distribution of the three QC metric\n",
    "VlnPlot(adata, \n",
    "        features = c(\"nFeature_RNA\", \"nCount_RNA\", \"percent.mt\"), \n",
    "        ncol = 3)"
   ]
  },
  {
   "cell_type": "markdown",
   "id": "786b438b-569f-478b-82bb-d46ccc308aab",
   "metadata": {},
   "source": [
    "<img src=\"./image/scRNA/1.png\" alt=\"Drawing\" style=\"zoom:50%\" align=\"left\"/>"
   ]
  },
  {
   "cell_type": "code",
   "execution_count": null,
   "id": "e66232ea",
   "metadata": {
    "message": false,
    "warning": false
   },
   "outputs": [],
   "source": [
    "## parameter\n",
    "nfeature_min = 200\n",
    "nfeature_max = 5000\n",
    "percent_mt = 20\n",
    "\n",
    "## Check the distribution of the three QC metric\n",
    "plot1 <- FeatureScatter(adata, feature1 = \"nCount_RNA\", feature2 = \"percent.mt\") + \n",
    "  geom_hline(yintercept = percent_mt, linetype=\"dotted\", size = 1, colour = \"#ae0404\")\n",
    "\n",
    "plot2 <- FeatureScatter(adata, feature1 = \"nCount_RNA\", feature2 = \"nFeature_RNA\") + \n",
    "  geom_hline(yintercept = nfeature_min, linetype=\"dotted\", size = 1, colour = \"#04ae59\")+ \n",
    "  geom_hline(yintercept = nfeature_max, linetype=\"dotted\", size = 1, colour = \"#04ae59\")\n",
    "## plot \n",
    "plot_grid(plot1, plot2, nrow = 2)"
   ]
  },
  {
   "cell_type": "markdown",
   "id": "a3cd9e36",
   "metadata": {},
   "source": [
    "<img src=\"./image/scRNA/2.png\" alt=\"Drawing\" style=\"zoom:50%\" align=\"left\"/>\n",
    "We can find that samples is 4591 now, before QC samples is 5100."
   ]
  },
  {
   "cell_type": "code",
   "execution_count": null,
   "id": "28fcf0a4",
   "metadata": {
    "message": false,
    "warning": false
   },
   "outputs": [],
   "source": [
    "## QC \n",
    "# 200< nFeature_RNA < 5000 & percent.mt < 20%\n",
    "adata <- subset(adata, \n",
    "                subset = nFeature_RNA < nfeature_max & nFeature_RNA > nfeature_min & percent.mt < percent_mt)\n",
    "## check data\n",
    "adata\n",
    "## An object of class Seurat \n",
    "## 19037 features across 4591 samples within 1 assay \n",
    "## Active assay: RNA (19037 features)"
   ]
  },
  {
   "cell_type": "markdown",
   "id": "8c2f2557",
   "metadata": {},
   "source": [
    "### 4.2 Normalizing the data\n",
    "After moving unwanted cells, the next step is to normalize the data. We employ a global-scaling normalizaiton method `LogNormalize` that normalizes the feature expression measurements for each cell by the total expression, multiplies this by a `size factor`(10,000 by default), and log-transforms the result. Normalized values are stored in the `adata[[\"RNA\"]]@data` which is another sparse matrix."
   ]
  },
  {
   "cell_type": "code",
   "execution_count": null,
   "id": "91c4ee63",
   "metadata": {
    "message": false,
    "warning": false
   },
   "outputs": [],
   "source": [
    "# normalizing data \n",
    "adata <- NormalizeData(adata, \n",
    "                       normalization.method = \"LogNormalize\", \n",
    "                       scale.factor = 10000)"
   ]
  },
  {
   "cell_type": "markdown",
   "id": "f492544a",
   "metadata": {},
   "source": [
    "### 4.3 Identifying high variable genes\n",
    "\n",
    "We next caculate a subset of geens that exhibit high cell-to-cell variation in the data(they are highly expressed in some cells,and lowly expressed in others). The [high varialble genes](https://www.nature.com/articles/nmeth.2645) can highlight biological signal in single-cell data. we can find high variable genes(HVGs) by calling FindVariableFeature() function. By default, we return **top 3000 HVGs** in single-cell data. These genes will be used in downstream analysis, like PCA. The resluts are stored in `adata[[\"RNA\"]]@var.features`."
   ]
  },
  {
   "cell_type": "code",
   "execution_count": null,
   "id": "76473264",
   "metadata": {
    "message": false,
    "warning": false
   },
   "outputs": [],
   "source": [
    "##  caculates hvgs in single-cell data\n",
    "hvgs = 3000\n",
    "adata <- FindVariableFeatures(adata, \n",
    "                              selection.method = \"vst\", \n",
    "                              nfeatures = hvgs)\n",
    "# \"vst\" is a method that model the mean-variance relationship in single-cell data.\n",
    "# parameter nfeatures is to select top genes\n",
    "\n",
    "## plot top 3000 HVGs\n",
    "plot1 <- VariableFeaturePlot(adata)\n",
    "plot1"
   ]
  },
  {
   "cell_type": "markdown",
   "id": "12581820-818e-419b-88a3-f787077e23de",
   "metadata": {},
   "source": [
    "<img src=\"./image/scRNA/3.png\" alt=\"Drawing\" style=\"zoom:50%\" align=\"left\"/>"
   ]
  },
  {
   "cell_type": "markdown",
   "id": "6204bddb",
   "metadata": {
    "tags": []
   },
   "source": [
    "### 4.4 Scaling the data\n",
    "\n",
    "Next, we apply a linear transformation(“scaling”) that is a standard pre-processing step prior to dimensional reduction techniques like PCA. The `scaleData` function:\n",
    "\n",
    "* Shift the expression of each gene, so that the mean expressiong across cells is 0\n",
    "* Scales the expression of each gene, so that the variance across cells is 1 The results are stored in the `adata[[\"RNA\"]]@scale.data`\n",
    "* why? This step is to prevent some values that are too large to capture biological information stably. But there are also agruments that is better reuslt without scale."
   ]
  },
  {
   "cell_type": "code",
   "execution_count": null,
   "id": "34a94b44",
   "metadata": {
    "message": false,
    "warning": false
   },
   "outputs": [],
   "source": [
    "# select top 3000 HVGs and perform the scale function\n",
    "tgenes <- adata[[\"RNA\"]]@var.features\n",
    "# tgenes <- rownames(adata[[\"RNA\"]])\n",
    "adata <- ScaleData(adata, \n",
    "                   features = tgenes)"
   ]
  },
  {
   "cell_type": "markdown",
   "id": "39fb248d",
   "metadata": {},
   "source": [
    "**Brief summary**\n",
    "\n",
    "In the data pre-processing workflow, we do\n",
    "\n",
    "1. QC and selecting cells This step is to remove th low-quality or outlier cells.\n",
    "2. Normalizing the data This step is to smooth gene expression, so that the highly-expressed genes are not “so high”\n",
    "3. Identifying high variable genes(feature selection) This step is to highlight biological signal in single-cell data\n",
    "4. Scaling the data This step gives equal weight in downstream analyses, so that highly-expressed genes do not dominate\n",
    "\n",
    "## 5. Linear dimensional reduction\n",
    "___\n",
    "\n",
    "### 5.1 PCA\n",
    "Next, we perform PCA on the `scale.data`. By default, only the previously detemined variable features are used as input. we select the top 3000 HVGs as input."
   ]
  },
  {
   "cell_type": "code",
   "execution_count": null,
   "id": "3c62e52a",
   "metadata": {
    "message": false,
    "warning": false
   },
   "outputs": [],
   "source": [
    "## perform the PCA by input top 3000 HVGs\n",
    "# tgenes <- adata[[\"RNA\"]]@var.features\n",
    "npcs = 50\n",
    "adata <- RunPCA(adata, \n",
    "                features = tgenes,\n",
    "                npcs = npcs, \n",
    "                verbose = FALSE)\n",
    "# parameter features to input user-defined genes\n",
    "# parameter npcs, the number of PCA "
   ]
  },
  {
   "cell_type": "markdown",
   "id": "7255c832",
   "metadata": {},
   "source": [
    "### 5.2 Determine dimensionality of PCs\n",
    "\n",
    "PCA is feature selection techniques whose purpose is to reduce noise, extract features, data compression, increase computing speed and so on. Each PC is linear combination that combines information across a correlated gene set. The top PCs therefore represent a robust comprassion of the dataset. How many components should we choose to include? 10? 20? 100? We can call function ElblowPlot to generates a elbow plot: a ranking of the PCs based on the percentages of variance. In this dataset, we can observe an “elbow” around PC20, suggesting that the majority features are captured in the first 20 PCs."
   ]
  },
  {
   "cell_type": "code",
   "execution_count": null,
   "id": "b62d3204",
   "metadata": {
    "message": false,
    "warning": false
   },
   "outputs": [],
   "source": [
    "# adata <- JackStraw(adata, num.replicate = 100, dims = 30)\n",
    "ElbowPlot(adata, \n",
    "          ndims = npcs)"
   ]
  },
  {
   "cell_type": "markdown",
   "id": "e77db8cf-7653-4631-8a32-33caf58a011e",
   "metadata": {},
   "source": [
    "<img src=\"./image/scRNA/4.png\" alt=\"Drawing\" style=\"zoom:50%\" align=\"left\"/>"
   ]
  },
  {
   "cell_type": "markdown",
   "id": "858b8d22",
   "metadata": {},
   "source": [
    "## 6. Clustering\n",
    "___\n",
    "\n",
    "Seurat applies a graph-based clustering approach. 1. They first construct a NN graph based on the Euclidean distance in PCA space, and refine the edge weights between any two cells based on the shared overlap in their local neighborhoods. Call `FindNeighbors()` to construct a NN graph. 2. To cluster the cells, they apply the modularity optimization algorithm ( [Louvain algorithm](https://iopscience.iop.org/article/10.1088/1742-5468/2008/10/P10008/fulltext/), default) to cluster the cells. We can call `FindClusters()` to do this step. And a parameter `resolution` is set in the `FindClusters()`, with increased values leading to a greater number of clusters."
   ]
  },
  {
   "cell_type": "code",
   "execution_count": null,
   "id": "7027286f",
   "metadata": {
    "lines_to_next_cell": 0,
    "message": false,
    "warning": false
   },
   "outputs": [],
   "source": [
    "# selcet the first 10 PCs\n",
    "pcs = 20\n",
    "# create nn graph \n",
    "adata <- FindNeighbors(adata, \n",
    "                       dims = 1:pcs, \n",
    "                       k.param = 20)\n",
    "# louvain cluster\n",
    "adata <- FindClusters(adata, \n",
    "                      resolution = 0.4)\n",
    "\n",
    "## Modularity Optimizer version 1.3.0 by Ludo Waltman and Nees Jan van Eck\n",
    "## \n",
    "## Number of nodes: 4591\n",
    "## Number of edges: 162469\n",
    "## \n",
    "## Running Louvain algorithm...\n",
    "## Maximum modularity in 10 random starts: 0.9151\n",
    "## Number of communities: 13\n",
    "## Elapsed time: 0 seconds"
   ]
  },
  {
   "cell_type": "code",
   "execution_count": null,
   "id": "d8b9de95",
   "metadata": {},
   "outputs": [],
   "source": [
    "# check the metadata\n",
    "head(adata[[]])\n",
    "\n",
    "##                   orig.ident nCount_RNA nFeature_RNA percent.mt\n",
    "## AAACCCAAGACAGCTG sc_tutorial       8384         2550   9.148378\n",
    "## AAACCCAAGTTAACGA sc_tutorial      11768         3017   6.296737\n",
    "## AAACCCACAGTCGCAC sc_tutorial       6947         2033   5.570750\n",
    "## AAACCCAGTAGCTTGT sc_tutorial       9354         2193   7.750695\n",
    "## AAACCCATCTGCCCTA sc_tutorial       8970         2630   7.781494\n",
    "## AAACGAAAGCAATTAG sc_tutorial       9291         2286  11.634916\n",
    "##                  RNA_snn_res.0.4 seurat_clusters\n",
    "## AAACCCAAGACAGCTG               2               2\n",
    "## AAACCCAAGTTAACGA               1               1\n",
    "## AAACCCACAGTCGCAC               0               0\n",
    "## AAACCCAGTAGCTTGT               8               8\n",
    "## AAACCCATCTGCCCTA               6               6\n",
    "## AAACGAAAGCAATTAG               6               6"
   ]
  },
  {
   "cell_type": "markdown",
   "id": "ede70ed3",
   "metadata": {
    "tags": []
   },
   "source": [
    "## 7. Visualization {.tabset .tabset-fade .tabset-pills}\n",
    "___\n",
    "\n",
    "Seurat offers several **non-linear dimensional reduction techniques**, such as tSNE and UMAP, to visualize and explore these datasets. The goal of these algorithms is to learn the underlying manifold of the data in order to place similar cells together in low-dimensional space.\n",
    "\n",
    "### call function `RunUMAP`\n",
    "If you haven’t installed UMAP, you can do so via `reticulate::py_install(packages = 'umap-learn')`"
   ]
  },
  {
   "cell_type": "code",
   "execution_count": null,
   "id": "00a0f15f",
   "metadata": {
    "message": false,
    "warning": false
   },
   "outputs": [],
   "source": [
    "# UMAP\n",
    "adata <- RunUMAP(adata,\n",
    "                 dims = 1:pcs)\n",
    "# individual clusters \n",
    "p1 <- DimPlot(adata, \n",
    "              reduction = \"umap\", \n",
    "              label = TRUE)\n",
    "ggplotly(p1)"
   ]
  },
  {
   "cell_type": "markdown",
   "id": "b1a70b57-dd1d-4c28-a935-971d938e8b8f",
   "metadata": {},
   "source": [
    "![jupyter](./image/scRNA/5.png)"
   ]
  },
  {
   "cell_type": "markdown",
   "id": "d3977a77",
   "metadata": {
    "lines_to_next_cell": 0
   },
   "source": [
    "### call function `RunTSNE`"
   ]
  },
  {
   "cell_type": "code",
   "execution_count": null,
   "id": "574c698d",
   "metadata": {
    "message": false,
    "warning": false
   },
   "outputs": [],
   "source": [
    "# TSNE\n",
    "adata <- RunTSNE(adata,\n",
    "                 dims = 1:pcs)\n",
    "# individual clusters \n",
    "p1 <- DimPlot(adata, \n",
    "              reduction = \"tsne\", \n",
    "              label = TRUE)\n",
    " \n",
    "ggplotly(p1)"
   ]
  },
  {
   "cell_type": "markdown",
   "id": "2192861f-cd27-411d-8128-02231fcf3c8f",
   "metadata": {},
   "source": [
    "![jupyter](./image/scRNA/6.png)"
   ]
  },
  {
   "cell_type": "markdown",
   "id": "acc7d388",
   "metadata": {},
   "source": [
    "## 8. Differentially expressed genes\n",
    "___\n",
    "\n",
    "Seurat can help you find markers that define clusters via differential expression."
   ]
  },
  {
   "cell_type": "code",
   "execution_count": null,
   "id": "26f54c0b",
   "metadata": {
    "message": false,
    "warning": false
   },
   "outputs": [],
   "source": [
    "# find markers for every cluster compared to all remaining cells, report only the positive ones\n",
    "adata_marker <- FindAllMarkers(adata,\n",
    "                               only.pos = TRUE,\n",
    "                               min.pct = 0.25,\n",
    "                               logfc.threshold = 0.25)"
   ]
  },
  {
   "cell_type": "markdown",
   "id": "368473c6",
   "metadata": {},
   "source": [
    "DoHeatmap generates an expression heatmap for given cells and features. In this case, we are plotting the top 10 markers (or all markers if less than 10) for each cluster."
   ]
  },
  {
   "cell_type": "code",
   "execution_count": null,
   "id": "d62dbd51",
   "metadata": {
    "fig.height": 6,
    "fig.width": 10,
    "message": false,
    "warning": false
   },
   "outputs": [],
   "source": [
    "# select top 10 markers for each cluster.\n",
    "top10 <- adata_marker %>% group_by(cluster) %>% top_n(n = 10, wt = avg_logFC)\n",
    "# heatmap the top 10 markers for each cluster.\n",
    "DoHeatmap(adata, \n",
    "          features = top10$gene, \n",
    "          raster = T,\n",
    "          label = F,\n",
    "          size = 2) + \n",
    "  theme(axis.text.y = element_blank())"
   ]
  },
  {
   "cell_type": "markdown",
   "id": "074dccb0-2069-403c-a004-cdb1570b06ad",
   "metadata": {},
   "source": [
    "<img src=\"./image/scRNA/7.png\" alt=\"Drawing\" style=\"zoom:50%\" align=\"left\"/>"
   ]
  },
  {
   "cell_type": "markdown",
   "id": "fa02baa2",
   "metadata": {
    "lines_to_next_cell": 0
   },
   "source": [
    "## 9. Identify the cell types {.tabset .tabset-fade .tabset-pills}\n",
    "___\n",
    "\n",
    "In this PBMC data, we can use the canonical markers to identify cell types and to mach the cell clusters.\n",
    "\n",
    "|<font size=4>Cell Clusters</font>|<font size=4>Gene Markers</font>|<font size=4>Cell Types</font>|\n",
    "|---|---|---|\n",
    "|<font size=4>5,6</font>|<font size=4>MS4A1</font>|<font size=4>B</font>|\t\n",
    "|<font size=4>4</font>|<font size=4>GNLY, NKG7</font>|<font size=4>NK</font>|\t\n",
    "|<font size=4>1</font>|<font size=4>CD14, LYZ</font>|<font size=4>CD14+ Mono</font>| \t\n",
    "|<font size=4>0,8,9</font>|<font size=4>IL7R, CCR7</font>|<font size=4>Naive CD4+T</font>|\n",
    "|<font size=4>10,12</font>|<font size=4>FCER1A, CST3</font>|<font size=4>DC</font>|\t\n",
    "|<font size=4>7</font>|<font size=4>MS4A7, FCGR3A</font>|<font size=4>FCGR3A+ Mono</font>|\t\n",
    "|<font size=4>3</font>|<font size=4>IL7R, S100A4</font>|<font size=4>Memory CD4+</font>| \t\n",
    "|<font size=4>2</font>|<font size=4>CD8A</font>|<font size=4>CD8+ T</font>|\t\n",
    "|<font size=4>11</font>|<font size=4>PPBP</font>|<font size=4>Platelet</font>|\n",
    "\n",
    "### B and NK "
   ]
  },
  {
   "cell_type": "code",
   "execution_count": null,
   "id": "0d135ae1",
   "metadata": {
    "message": false,
    "warning": false
   },
   "outputs": [],
   "source": [
    "# B, NK \n",
    "FeaturePlot(adata, \n",
    "            features = c(\"MS4A1\", # B\n",
    "                         \"GNLY\", \"NKG7\"), # NK\n",
    "            cols = c(\"grey\", \"red\", \"red\"), \n",
    "            ncol = 2)"
   ]
  },
  {
   "cell_type": "markdown",
   "id": "f4308bb8-eb91-48fb-8811-4eb0f8fdbc7a",
   "metadata": {},
   "source": [
    "<img src=\"./image/scRNA/8.png\" alt=\"Drawing\" style=\"zoom:50%\" align=\"left\"/>"
   ]
  },
  {
   "cell_type": "markdown",
   "id": "c56292f1",
   "metadata": {
    "lines_to_next_cell": 0
   },
   "source": [
    "### CD14+Mono and Naive CD4+T"
   ]
  },
  {
   "cell_type": "code",
   "execution_count": null,
   "id": "9ec455e9",
   "metadata": {
    "message": false,
    "warning": false
   },
   "outputs": [],
   "source": [
    "# CD14+Mono, Naive CD4+T\n",
    "FeaturePlot(adata, \n",
    "            features = c(\"CD14\", \"LYZ\", # CD14+Mono\n",
    "                         \"IL7R\", \"CCR7\"), # Naive CD4+T\n",
    "            cols = c(\"grey\", \"red\", \"red\"), \n",
    "            ncol = 2)"
   ]
  },
  {
   "cell_type": "markdown",
   "id": "a3755931-4c52-4c52-8450-65ab840f9a85",
   "metadata": {},
   "source": [
    "<img src=\"./image/scRNA/9.png\" alt=\"Drawing\" style=\"zoom:50%\" align=\"left\"/>"
   ]
  },
  {
   "cell_type": "markdown",
   "id": "857ddac8",
   "metadata": {
    "lines_to_next_cell": 0
   },
   "source": [
    "### DC and FCGR3A+ Mono"
   ]
  },
  {
   "cell_type": "code",
   "execution_count": null,
   "id": "92d8dbb2",
   "metadata": {
    "message": false,
    "warning": false
   },
   "outputs": [],
   "source": [
    "# DC, FCGR3A+ Mono\n",
    "FeaturePlot(adata, \n",
    "            features = c(\"FCER1A\", \"CST3\", # DC \n",
    "                         \"MS4A7\", \"FCGR3A\"), # FCGR3A+ Mono\n",
    "            cols = c(\"grey\", \"red\", \"red\"), \n",
    "            ncol = 2)"
   ]
  },
  {
   "cell_type": "markdown",
   "id": "06e347d9-667a-4b91-9298-fc07e442d791",
   "metadata": {},
   "source": [
    "<img src=\"./image/scRNA/10.png\" alt=\"Drawing\" style=\"zoom:50%\" align=\"left\"/>"
   ]
  },
  {
   "cell_type": "markdown",
   "id": "7befdaf6",
   "metadata": {
    "lines_to_next_cell": 0
   },
   "source": [
    "### Memory CD4+, CD8+ T and Platelet"
   ]
  },
  {
   "cell_type": "code",
   "execution_count": null,
   "id": "3cf7d8d4",
   "metadata": {
    "message": false,
    "warning": false
   },
   "outputs": [],
   "source": [
    "# Memory CD4+, CD8+ T, Platelet\n",
    "FeaturePlot(adata, \n",
    "            features = c(\"IL7R\", \"S100A4\", # Memory CD4+\n",
    "                         \"CD8A\", # CD8+T\n",
    "                         \"PPBP\"), # Platelet\n",
    "            cols = c(\"grey\", \"red\", \"red\"), \n",
    "            ncol = 2)"
   ]
  },
  {
   "cell_type": "markdown",
   "id": "b5e242b8-dd78-449c-bc7f-a5841ab1bf74",
   "metadata": {},
   "source": [
    "<img src=\"./image/scRNA/11.png\" alt=\"Drawing\" style=\"zoom:50%\" align=\"left\"/>"
   ]
  },
  {
   "cell_type": "markdown",
   "id": "0f2ae77b",
   "metadata": {
    "lines_to_next_cell": 0
   },
   "source": [
    "## 10. plotting the cell types\n",
    "___\n",
    "So we can plot the cell types labels on the each cluster"
   ]
  },
  {
   "cell_type": "code",
   "execution_count": null,
   "id": "0c40700d",
   "metadata": {
    "lines_to_next_cell": 2,
    "message": false,
    "warning": false
   },
   "outputs": [],
   "source": [
    "adata[[\"cell_types\"]] <- \"undetermined\"\n",
    "adata@meta.data$cell_labels <-  as.character(adata@meta.data$seurat_clusters)\n",
    "celltype_list = list(\"Naive CD4+ T\"=c(\"0\",\"8\",\"9\"),\n",
    "                     \"Memory CD4+\"=c(\"3\"),\n",
    "                     \"CD14+ Mono\"=c(\"1\"),\n",
    "                     \"B\"=c(\"5\",\"6\"),\n",
    "                     \"CD8+ T\"=c(\"2\"),\n",
    "                     \"FCGR3A+ Mono\"=c(\"7\"),\n",
    "                     \"NK\"=c(\"4\"),\n",
    "                     \"DC\"=c(\"10\",\"12\"),\n",
    "                     \"Platelet\"=c(\"11\"))\n",
    "for(i in names(celltype_list)){\n",
    "  adata@meta.data$cell_types[adata@meta.data$cell_labels %in% celltype_list[[i]]] <- i\n",
    "}\n"
   ]
  },
  {
   "cell_type": "code",
   "execution_count": null,
   "id": "58d09c42",
   "metadata": {
    "message": false,
    "warning": false
   },
   "outputs": [],
   "source": [
    "p1 <- DimPlot(adata, \n",
    "              reduction = \"umap\", \n",
    "              label = T, \n",
    "              group.by = \"cell_types\")\n",
    "ggplotly(p1)"
   ]
  },
  {
   "cell_type": "markdown",
   "id": "c7579d1f-b167-4be4-b31e-c81598617eaa",
   "metadata": {},
   "source": [
    "![jupyter](./image/scRNA/12.png)"
   ]
  },
  {
   "cell_type": "markdown",
   "id": "9bf2019e",
   "metadata": {
    "lines_to_next_cell": 0
   },
   "source": [
    "## 11. Enrichment Analysis {.tabset .tabset-fade .tabset-pills}\n",
    "___\n",
    "We have to transform the gene `SYMBOL` to `ENTREZID` before enrichment\n",
    "\n",
    "### GO enrichment"
   ]
  },
  {
   "cell_type": "code",
   "execution_count": null,
   "id": "49e54899",
   "metadata": {
    "message": false,
    "warning": false
   },
   "outputs": [],
   "source": [
    "# At first, we select the some cluster to do GO analysis\n",
    "# 11:Platelet, 2:CD8+ T\n",
    "marker <- adata_marker[as.character(adata_marker$cluster) %in% c(\"2\",\"11\"), ]\n",
    "marker$cluster <- as.character(marker$cluster)\n",
    "marker <-  split(marker$gene, marker$cluster)\n",
    "\n",
    "# we can select the top 100 genes.\n",
    "# t100 <- adata_marker %>% group_by(cluster) %>% top_n(n = 100, wt = avg_logFC)\n",
    "# t100 <- split(top20$gene, top20$cluster)\n",
    "entrezid <-  lapply(marker, function(gr) as.numeric(bitr(gr, fromType = \"SYMBOL\", toType = \"ENTREZID\", OrgDb = \"org.Hs.eg.db\")$ENTREZID))\n",
    "\n",
    "# PBMC GO\n",
    "pvalueCutoff = 0.01\n",
    "qvalueCutoff = 0.01\n",
    "pbmc_go <- compareCluster(entrezid,\n",
    "                          OrgDb='org.Hs.eg.db',\n",
    "                          fun='enrichGO',\n",
    "                          pvalueCutoff = pvalueCutoff,\n",
    "                          qvalueCutoff = qvalueCutoff,\n",
    "                          ont = \"BP\",\n",
    "                          readable=T)\n",
    "# plot the go \n",
    "dotplot(pbmc_go,\n",
    "        title = paste0(\"PBMC Gene Ontology (qval < \", qvalueCutoff, \")\"))"
   ]
  },
  {
   "cell_type": "markdown",
   "id": "40a353ad-7212-42cb-824c-3e9253df5731",
   "metadata": {},
   "source": [
    "<img src=\"./image/scRNA/13.png\" alt=\"Drawing\" style=\"zoom:50%\" align=\"left\"/>"
   ]
  },
  {
   "cell_type": "code",
   "execution_count": null,
   "id": "f0e15c62",
   "metadata": {
    "message": false,
    "warning": false
   },
   "outputs": [],
   "source": [
    "# view the go table data\n",
    "go_table = pbmc_go@compareClusterResult\n",
    "datatable(go_table, filter=\"top\", options=list(pageLength = 10))\n",
    "# we can save the GO table as the .html file\n",
    "# datatable(go_table, filter=\"top\", options=list(pageLength = 10)) %>% saveWidget(\"pbmc_go.html\")"
   ]
  },
  {
   "cell_type": "markdown",
   "id": "66dfd2c8",
   "metadata": {
    "lines_to_next_cell": 0
   },
   "source": [
    "### PA enrichment"
   ]
  },
  {
   "cell_type": "code",
   "execution_count": null,
   "id": "ad413936",
   "metadata": {
    "fig.height": 6,
    "fig.width": 10,
    "lines_to_next_cell": 0,
    "message": false,
    "warning": false
   },
   "outputs": [],
   "source": [
    "# And then we can do the pathway analysis\n",
    "pbmc_pa<- compareCluster(entrezid,\n",
    "                         organism = \"human\",\n",
    "                         fun='enrichPathway',\n",
    "                         pvalueCutoff = pvalueCutoff,\n",
    "                         qvalueCutoff = qvalueCutoff,\n",
    "                         readable=T)\n",
    "# plot the PA \n",
    "dotplot(pbmc_pa,\n",
    "        title = paste0(\"PBMC Pathway (qval < \", qvalueCutoff, \")\"))\n",
    "\n",
    "# pa_table = pbmc_pa@compareClusterResult"
   ]
  },
  {
   "cell_type": "markdown",
   "id": "2bd5c47b-21cb-4b68-98fa-c92af43eb697",
   "metadata": {},
   "source": [
    "<img src=\"./image/scRNA/14.png\" alt=\"Drawing\" style=\"zoom:50%\" align=\"left\"/>"
   ]
  },
  {
   "cell_type": "markdown",
   "id": "84fdd573",
   "metadata": {},
   "source": [
    "\n",
    "\n",
    "\n",
    "\n",
    "\n",
    "\n",
    "\n",
    "\n",
    "\n",
    "\n",
    "  "
   ]
  }
 ],
 "metadata": {
  "jupytext": {
   "cell_metadata_filter": "name,warning,fig.width,message,tags,fig.height,-all",
   "main_language": "R",
   "notebook_metadata_filter": "-all"
  },
  "kernelspec": {
   "display_name": "R",
   "language": "R",
   "name": "ir"
  },
  "language_info": {
   "codemirror_mode": "r",
   "file_extension": ".r",
   "mimetype": "text/x-r-source",
   "name": "R",
   "pygments_lexer": "r",
   "version": "4.1.2"
  }
 },
 "nbformat": 4,
 "nbformat_minor": 5
}