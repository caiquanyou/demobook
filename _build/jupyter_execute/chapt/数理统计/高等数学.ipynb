{
 "cells": [
  {
   "cell_type": "markdown",
   "metadata": {},
   "source": [
    "# 高等数学基础\n",
    "# 1.函数"
   ]
  },
  {
   "cell_type": "markdown",
   "metadata": {},
   "source": [
    "## 1.1 函数的定义\n",
    "定义:设数集 $D \\subset {\\mathbf{R}}, \\text { 则称映射 } f: D \\rightarrow \\mathbf{R} \\text { 为定义在 } D \\text { 上的函数,通常简记为 }$\n",
    "$$\n",
    "y=f(x), x \\in D\n",
    "$$\n",
    "函数定义中,对每个 $x \\in D$,按对应法则 $f$,总有唯一确定的值 $y$ 与之对应， 这个值称为函数 $f$ 在 $x$ 处的函数值,记作 $f(x),$ 即 $y=f(x) .$ 因变量 $y$ 与自变量 $x$ 之间的这种依赖关系,通常称为函数关系. 函数值 $f(x)$ 的全体所构成的集合称为函数 $f$ 的值域,记作 $R_{f}$ 或 $f(D),$ 即\n",
    "$$\n",
    "R_{f}=f(D)=\\{y \\mid y=f(x), x \\in D\\}\n",
    "$$\n",
    "\n",
    "说白了，函数就是实数集到实数集的一个映射，如：\n",
    "$$\n",
    "y=|x|=\\left\\{\\begin{array}{ll}\n",
    "x, & x \\geqslant 0 \\\\\n",
    "-x, & x<0\n",
    "\\end{array}\\right.\n",
    "$$\n",
    "的定义域 $D=(-\\infty,+\\infty),$ 值域 $R_{f}=[0,+\\infty),$ 它的图形如下图所示.这函数称为绝对值函数。\n",
    "\n",
    "![jupyter](./image/gs/1.png)\n",
    "\n",
    "## 1.2 反函数\n",
    "设函数 $f: D \\rightarrow f(D)$ 是单射,则它存在逆映射 $f^{-1}: f(D) \\rightarrow D,$ 称此映射 $f^{-1}$ 为函数 $f$ 的反函数。按此定义,对每个 $y \\in f(D),$ 有唯一的 $x \\in D,$ 使得 $f(x)=y,$ 于是有 $f^{-1}(y)=x$                                \n",
    "这就是说,反函数 $f^{-1}$ 的对应法则是完全由函数 $f$ 的对应法则所确定的. 例如,函数 $y=x^{3}, x \\in \\mathbf{R}$ 是单射, 所以它的反函数存在,其反函数为\n",
    "$x=y^{\\frac{1}{3}}, y \\in \\mathbf{R}$                                         \n",
    "由于习惯上自变量用 $x$ 表示,因变量用 $y$ 表示,于是 $y=x^{3}, x \\in \\mathbf{R}$ 的反函数通常写作 $y=x^{\\frac{1}{3}}, x \\in \\mathbf{R}$。一般的, $y=f(x), x \\in D$ 的反函数记成 $y=f^{-1}(x), x \\in f(D)$.\n",
    "\n",
    "![jupyter](./image/gs/2.png)\n",
    "\n",
    "## 1.3 复合函数\n",
    "设函数 $y=f(u)$ 的定义城为 $D_{f},$ 函数 $u=g(x)$ 的定义域为 $D_{x},$ 且其值域 $R_{g} \\subset D_{t},$ 则由下式确定的函数\n",
    "$$\n",
    "y=f[g(x)], \\quad x \\in D_{x}\n",
    "$$\n",
    "称为由函数 $u=g(x)$ 与函数 $y=f(u)$ 构成的复合函数,它的定义域为 $D_{x}$ ,变量$u$ 称为中间变量。            \n",
    "\n",
    "例子：物体运动的动能为 $E=m v^{2} / 2,$ 而自由落体的速度为 $v=g t,$ 所以自由落体的动能是时间 $t$ 的复合函数 :\n",
    "$$\n",
    "E=\\frac{1}{2} m g^{2} t^{2}\n",
    "$$"
   ]
  },
  {
   "cell_type": "markdown",
   "metadata": {},
   "source": [
    "# 2.导数"
   ]
  },
  {
   "cell_type": "markdown",
   "metadata": {},
   "source": [
    "## 2.1 引例\n",
    "引例1：已知位移求瞬时速度                              \n",
    "物体作变速直线运动，已知物体的位置与时间的关系是 $s=f(t),$ 求物体在 $t=t_{0}$ 时的瞬时速度为$v(t_0)$                 \n",
    "当时间由 $t_{0}$ 变化到 $t_{0}+\\Delta t$ 时，                              \n",
    "物体的位移 $\\Delta \\boldsymbol{s}=\\boldsymbol{f}\\left(\\boldsymbol{t}_{0}+\\Delta t\\right)-\\boldsymbol{f}\\left(t_{0}\\right)$                \n",
    "所以物体在这段时间的平均速度 $\\bar{v}=\\frac{\\Delta s}{\\Delta t}$.                     \n",
    "怎样把平均速度与瞬时速度联系起来？                     \n",
    "因为在短时间内速度变化不大，所以可用物体在 $t_{0}$ 附近的平均速度近似 $t_{0}$ 时刻的瞬时速度.                   \n",
    "即 $\\boldsymbol{v}\\left(\\boldsymbol{t}_{0}\\right) \\approx \\frac{\\Delta \\boldsymbol{s}}{\\Delta \\boldsymbol{t}} \\quad(\\Delta t$越小误差越小$)$                  \n",
    "为了得到瞬时速度的精确概念，把瞬时速度理解成当时间段无限缩小时平均速度的极限。                             \n",
    "即 $\\boldsymbol{v}\\left(\\boldsymbol{t}_{0}\\right)=\\lim _{\\Delta t \\rightarrow 0} \\frac{\\Delta \\boldsymbol{s}}{\\Delta t}=\\lim _{\\Delta t \\rightarrow 0} \\frac{\\boldsymbol{f}\\left(\\boldsymbol{t}_{0}+\\Delta t\\right)-\\boldsymbol{f}\\left(\\boldsymbol{t}_{0}\\right)}{\\Delta \\boldsymbol{t}}$                       \n",
    "所以瞬时速度是位移对时间的瞬时变化率。                      \n",
    "引例2：曲线的切线                                       \n",
    "求曲线 $\\boldsymbol{y}=\\boldsymbol{f}(\\boldsymbol{x})$ 在点 $\\boldsymbol{M}\\left(\\boldsymbol{x}_{0}, \\boldsymbol{f}\\left(\\boldsymbol{x}_{0}\\right)\\right)$ 处的切线方程：                  \n",
    "在曲线上点 $M$ 附近取一点 $N$, 作直线 $M N$ (割线).\n",
    "当点N沿着曲线趋向于 $M$ 时，如果割线 $M N$有一个极限位置,就把此极限位置理解为曲线在点M处的切线。              \n",
    "\n",
    "![jupyter](./image/gs/3.png)\n",
    "\n",
    "相应的，切线的斜率等于割线斜率的极限。割线 $M N$ 的斜率为 $\\frac{\\Delta y}{\\Delta x}=\\frac{f\\left(x_{0}+\\Delta x\\right)-f\\left(x_{0}\\right)}{\\Delta x}$              \n",
    "切线的斜率为\n",
    "$$\n",
    "\\begin{aligned} k &=\\lim _{\\Delta x \\rightarrow 0} \\frac{\\Delta y}{\\Delta x} \\\\ &=\\lim _{\\Delta x \\rightarrow 0} \\frac{f\\left(x_{0}+\\Delta x\\right)-f\\left(x_{0}\\right)}{\\Delta x} \\end{aligned}\n",
    "$$                \n",
    "\n",
    "## 2.2 导数的定义\n",
    "定义：设函数 $y=f(x)$ 在点 $x_{0}$ 的某个邻域内有定义,当自变量 $x$ 在 $x_{0}$ 处取得增量\n",
    "$\\Delta x$ ;如果 $\\Delta y$ 与 $\\Delta x$ 之比当 $\\Delta x \\rightarrow 0$ 时的 极限存在, 则称函数 $y=$ $f(x)$ 在点 $x_{0}$ 处可导,并称这个极限为函数 $y=f(x)$ 在点 $x_{0}$ 处的导数,记为 $f^{\\prime}\\left(x_{0}\\right),$ 即               \n",
    "$$\n",
    "f^{\\prime}\\left(x_{0}\\right)=\\lim _{\\Delta, x \\rightarrow 0} \\frac{\\Delta y}{\\Delta x}=\\lim _{\\Delta x \\rightarrow 0} \\frac{f\\left(x_{0}+\\Delta x\\right)-f\\left(x_{0}\\right)}{\\Delta x}\n",
    "$$\n",
    "也可记作 $\\left.y^{\\prime}\\right|_{x=x_{0}}$,$\\left.\\frac{\\mathrm{d} y}{\\mathrm{~d} x}\\right|_{x=x_{0}}$ 或 $\\left.\\frac{\\mathrm{d} f(x)}{\\mathrm{d} x}\\right|_{x=x_{0}} $。          \n",
    "\n",
    "\n",
    "\n",
    "**简单的说，导数就是因变量的增量与自变量的增量之比的极限。**尝试使用函数导数的定义推导$y = x^2$的导数？                    \n",
    "\n",
    "## 2.3 函数的求导法则\n",
    "(1) 函数的和差积商的求导法则：              \n",
    "$$\n",
    "[u(x) \\pm v(x)]^{\\prime}=u^{\\prime}(x) \\pm v^{\\prime}(x)\\\\                 \n",
    "[u(x) v(x)]^{\\prime}=u^{\\prime}(x) v(x)+u(x) v^{\\prime}(x) \\\\                        \n",
    "\\left[\\frac{u(x)}{v(x)}\\right]^{\\prime}=\\frac{u^{\\prime}(x) v(x)-u(x) v^{\\prime}(x)}{v^{2}(x)}(v(x) \\neq 0)\n",
    "$$                       \n",
    "\n",
    "例子：                     \n",
    "求$y=2 x^{3}-5 x^{2}+3 x-7$的导数？              \n",
    "解：\n",
    "$$\n",
    "\\begin{aligned}\n",
    "y^{\\prime} &=\\left(2 x^{3}-5 x^{2}+3 x-7\\right)^{\\prime} \\\\\n",
    "&=\\left(2 x^{3}\\right)^{\\prime}-\\left(5 x^{2}\\right)^{\\prime}+(3 x)^{\\prime}-(7)^{\\prime} \\\\\n",
    "&=2 \\cdot 3 x^{2}-5 \\cdot 2 x+3-0=6 x^{2}-10 x+3\n",
    "\\end{aligned}\n",
    "$$\n",
    "\n",
    "(2)复合函数的求导法则：               \n",
    "如果 $u=g(x)$ 在点 $x$ 可导, 而 $y=f(u)$ 在点 $u=g(x)$ 可导, 则：\n",
    "$$\n",
    "\\frac{\\mathrm{d} y}{\\mathrm{~d} x}=f^{\\prime}(u) \\cdot g^{\\prime}(x) \\quad \\text { 或 } \\quad \\frac{\\mathrm{d} y}{\\mathrm{~d} x}=\\frac{\\mathrm{d} y}{\\mathrm{~d} u} \\cdot \\frac{\\mathrm{d} u}{\\mathrm{~d} x}\n",
    "$$\n",
    "\n",
    "例子：                       \n",
    "$y=e^{x^{3}},$ 求 $\\frac{d y}{d x}$.                                    \n",
    "解 $y=\\mathrm{e}^{x^{3}}$ 可看作由 $y=\\mathrm{e}^{\\prime \\prime}, u=x^{3}$ 复合而成, 因此                          \n",
    "$$\n",
    "\\frac{\\mathrm{d} y}{\\mathrm{~d} x}=\\frac{\\mathrm{d} y}{\\mathrm{~d} u} \\cdot \\frac{\\mathrm{d} u}{\\mathrm{~d} x}=\\mathrm{e}^{u} \\cdot 3 x^{2}=3 x^{2} \\mathrm{e}^{x^{3}}\n",
    "$$\n",
    "\n",
    "(3)常用的初等函数导数：                \n",
    "$$\n",
    "(1) (C)^{\\prime}=0,\\;\\;\\;\n",
    "(2) \\left(x^{\\prime \\prime}\\right)^{\\prime}=\\mu x^{\\prime \\prime-1},\\\\\n",
    "(3) (\\sin x)^{\\prime}=\\cos x,\\;\\;\\;\n",
    "(4) (\\cos x)^{\\prime}=-\\sin x,\\\\\n",
    "(5) (\\tan x)^{\\prime}=\\sec ^{2} x,\\;\\;\\;\n",
    "(6) (\\cot x)^{\\prime}=-\\csc ^{2} x,\\\\\n",
    "(7) (\\sec x)^{\\prime}=\\sec x \\tan x,\\;\\;\\;\n",
    "(8) (\\csc x)^{\\prime}=-\\csc x \\cot x,\\\\\n",
    "(9) \\left(a^{x}\\right)^{\\prime}=a^{x} \\ln a,\\;\\;\\;\n",
    "(10)\\left(\\mathrm{e}^{x}\\right)^{\\prime}=\\mathrm{e}^{x},\\\\\n",
    "(11)\\left(\\log _{a} x\\right)^{\\prime}=\\frac{1}{x \\ln a},\\;\\;\\;\n",
    "(12) (\\ln x)^{\\prime}=\\frac{1}{x},\\\\\n",
    "(13) (\\arcsin x)^{\\prime}=\\frac{1}{\\sqrt{1-x^{2}}},\\;\\;\\;\n",
    "(14) (\\arccos x)^{\\prime}=-\\frac{1}{\\sqrt{1-x^{2}}},\\\\\n",
    "(15) (\\arctan x)^{\\prime}=\\frac{1}{1+x^{2}},\\;\\;\\;\n",
    "(16) (\\operatorname{arccot} x)^{\\prime}=-\\frac{1}{1+x^{2}}\\\\\n",
    "$$"
   ]
  },
  {
   "cell_type": "markdown",
   "metadata": {},
   "source": [
    "## 2.4 高阶导数"
   ]
  },
  {
   "cell_type": "markdown",
   "metadata": {},
   "source": [
    "若函数 $y=f(x)$ 的导数 $y^{\\prime}=f^{\\prime}(x)$ 可导，则称 $f^{\\prime}(x)$ 的导数为 $f(x)$ 的二阶导数，记作 $y^{\\prime \\prime}$ 或 $\\frac{d^{2} y}{d x^{2}},$ 即\n",
    "$$\n",
    "y^{\\prime \\prime}=\\left(y^{\\prime}\\right)^{\\prime} \\text { 或 } \\frac{d^{2} y}{d x^{2}}=\\frac{d}{d x}\\left(\\frac{d y}{d x}\\right)\n",
    "$$\n",
    "类似地，二阶导数的导数称为三阶导数，依次类推。二阶和二阶以上的导数统称为高阶导数。                    \n",
    "例子：              \n",
    "求函数 $\\ln (1+x)$ 的 2 阶导数：                           \n",
    "解：              \n",
    "$y=\\ln (1+x), y^{\\prime}=\\frac{1}{1+x}$，$y^{\\prime \\prime}=-\\frac{1}{(1+x)^{2}},$"
   ]
  },
  {
   "cell_type": "markdown",
   "metadata": {},
   "source": [
    "# 3.多元函数"
   ]
  },
  {
   "cell_type": "markdown",
   "metadata": {},
   "source": [
    "## 3.1 多元函数的相关概念\n",
    "(1)n维空间：                    \n",
    "设 $n$ 为取定的一个正整数,我们用 $\\mathbf{R}^{n}$ 表示 $n$ 元有序实数组 $\\left(x_{1}, x_{2}, \\cdots,\\right.$\n",
    "$\\left.x_{n}\\right)$ 的全体所构成的集合, 即\n",
    "$$\n",
    "\\mathbf{R}^{n}=\\mathbf{R} \\times \\mathbf{R} \\times \\cdots \\times \\mathbf{R}=\\left\\{\\left(x_{1}, x_{2}, \\cdots, x_{n}\\right) \\mid x_{i} \\in \\mathbf{R}, i=1,2, \\cdots, n\\right\\}\n",
    "$$\n",
    "$\\mathbf{R}^{n}$ 中的元素 $\\left(x_{1}, x_{2}, \\cdots, x_{n}\\right)$ 有时也用单个字母 $\\boldsymbol{x}$ 来表示, 即 $\\boldsymbol{x}=\\left(x_{1}, x_{2}, \\cdots,\\right.$\n",
    "$\\left.x_{n}\\right) .$ 当所有的 $x_{i}(i=1,2, \\cdots, n)$ 都为零时,称这样的元素为 $\\mathbf{R}^{n}$ 中的零元,记为\n",
    "0或 O. 在解析几何中,通过直角坐标系, $\\mathbf{R}^{2}$ (或 $\\mathbf{R}^{3}$ )中的元素分别与平面（或空间)中的点或向量建立一一对应。                 \n",
    "为了在集合 $\\mathbf{R}^{n}$ 中的元索之间建立联系,在 $\\mathbf{R}^{n}$ 中定义线代运算如下：\n",
    "\n",
    "设 $x=\\left(x_{1}, x_{2}, \\cdots, x_{n}\\right), y=\\left(y_{1}, y_{2}, \\cdots, y_{n}\\right)$ 为 $\\mathbf{R}^{n}$ 中任意两个元素 $, \\lambda \\in \\mathbf{R}$规定：              \n",
    "$$\n",
    "\\begin{array}{l}\n",
    "x+y=\\left(x_{1}+y_{1}, x_{2}+y_{2}, \\cdots, x_{n}+y_{n}\\right), \\\\\n",
    "\\lambda x=\\left(\\lambda x_{1}, \\lambda x_{2}, \\cdots, \\lambda x_{n}\\right)\n",
    "\\end{array}\n",
    "$$\n",
    "这样定义了线性运算的集合 $\\mathbf{R}^{n}$ 称为 $n$ 维空间.                         \n",
    "$\\mathbf{R}^{n}$ 中点 $\\boldsymbol{x}=\\left(x_{1}, x_{2}, \\cdots, x_{n}\\right)$ 和点 $\\boldsymbol{y}=\\left(y_{1}, y_{2}, \\cdots, y_{n}\\right)$ 间的距离, 记作$\\rho(x, y),$ 规定\n",
    "$$\n",
    "\\rho(x, y)=\\sqrt{\\left(x_{1}-y_{1}\\right)^{2}+\\left(x_{2}-y_{2}\\right)^{2}+\\cdots+\\left(x_{n}-y_{n}\\right)^{2}}\n",
    "$$\n",
    "(2)二元函数：                     \n",
    "设 $D$ 是 $\\mathbf{R}^{2}$ 的一个非空子集,称映射 $f: D \\rightarrow \\mathbf{R}$ 为定义在 $D$ 上的二元函数,通常记为\n",
    "$$\n",
    "z=f(x, y),(x, y) \\in D\n",
    "$$\n",
    "或\n",
    "$$\n",
    "z=f(P), P \\in D\n",
    "$$\n",
    "\n",
    "![jupyter](./image/gs/4.png)"
   ]
  },
  {
   "cell_type": "markdown",
   "metadata": {},
   "source": [
    "## 3.2 多元函数的偏导数"
   ]
  },
  {
   "cell_type": "markdown",
   "metadata": {},
   "source": [
    "定义：                   \n",
    "设二元函数 $=f(x, y)$ 在点 $\\left(x_{0}, y_{0}\\right)$ 的某一邻域内有定义，当固定在 $y_{0}$ 而x在 $x_{0}$ 处有增量$\\Delta x$时， 相应的函数有增量 $\\Delta_{x} z=f\\left(x_{0}+\\Delta x, y_{0}\\right)-f\\left(x_{0}, y_{0}\\right) .$                    \n",
    "如果 $\\lim _{\\Delta x \\rightarrow 0} \\frac{\\Delta_{x} z}{\\Delta x}$ 存在，就称此极限为函数 $z=f(x, y)$\n",
    "在点( $\\left.x_{0}, y_{0}\\right)$ 处对x的偏导数.                    \n",
    "记作 $\\frac{\\partial z}{\\partial x}\\left|\\left(x_{0}, y_{0}\\right), \\frac{\\partial f}{\\partial x}\\right|\\left(x_{0}, y_{0}\\right)^{, z_{x} \\mid\\left(x_{0}, y_{0}\\right)}, f_{x}\\left(x_{0}, y_{0}\\right) .$                            \n",
    "即 $\\left.\\frac{\\partial z}{\\partial x}\\right|_{\\left(x_{0}, y_{0}\\right)}=\\lim _{\\Delta x \\rightarrow 0} \\frac{\\Delta_{x} z}{\\Delta x}=\\lim _{\\Delta x \\rightarrow 0} \\frac{f\\left(x_{0}+\\Delta x, y_{0}\\right)-f\\left(x_{0}, y_{0}\\right)}{\\Delta x}$                 \n",
    "例子：            \n",
    "求 $z=x^{2}+3 x y+y^{2}$ 在点 (1,2) 处的偏导数.                       \n",
    "解：                    \n",
    "把 $y$ 看做常数,得\n",
    "$$\n",
    "\\frac{\\partial z}{\\partial x}=2 x+3 y\n",
    "$$\n",
    "把 $x$ 看做常数,得\n",
    "$$\n",
    "\\frac{\\partial z}{\\partial y}=3 x+2 y\n",
    "$$\n",
    "将(1,2)代人上面的结果,就得\n",
    "$$\n",
    "\\begin{array}{l}\n",
    "\\left.\\frac{\\partial z}{\\partial x}\\right|_{x=1 \\atop y=2}=2 \\cdot 1+3 \\cdot 2=8 \\\\\n",
    "\\left.\\frac{\\partial z}{\\partial y}\\right|_{x=1 \\atop y=2}=3 \\cdot 1+2 \\cdot 2=7\n",
    "\\end{array}\n",
    "$$\n",
    "\n",
    "![jupyter](./image/gs/5.png)"
   ]
  },
  {
   "cell_type": "markdown",
   "metadata": {},
   "source": [
    "## 3.3 梯度向量"
   ]
  },
  {
   "cell_type": "markdown",
   "metadata": {},
   "source": [
    "梯度的本意是一个向量（矢量），表示某一函数在该点处的方向导数沿着该方向取得最大值，即函数在该点处沿着该方向（此梯度的方向）变化最快，变化率最大（为该梯度的模）。                          \n",
    "定义：设二元函数 $z=f(x, y)$ 在平面区域D上具有一阶连续偏导数，则对于每一个点P（x, y）都可定出一个向量 $\\left\\{\\frac{\\partial f}{\\partial x}, \\frac{\\partial f}{\\partial y}\\right\\}=f_{x}(x, y) \\bar{i}+f_{y}(x, y) \\bar{j},$ 该函数就称为函数 $z=f(x, y)$ 在点P $(\\mathrm{x}, \\mathrm{y})$ 的梯度，记作gradf $(\\mathrm{x}, \\mathrm{y})$ 或\n",
    "$\\nabla f(x, y)$,即有:\n",
    "$$\n",
    "\\operatorname{gradf}(\\mathrm{x}, \\mathrm{y})=\\nabla f(x, y)=\\left\\{\\frac{\\partial f}{\\partial x}, \\frac{\\partial f}{\\partial y}\\right\\}=f_{x}(x, y) \\bar{i}+f_{y}(x, y) \\bar{j}\n",
    "$$\n",
    "其中 $\\nabla=\\frac{\\partial}{\\partial x} \\bar{i}+\\frac{\\partial}{\\partial y} \\bar{j}$ 称为（二维的）向量微分算子或Nabla算子, $\\nabla f=\\frac{\\partial f}{\\partial x} \\bar{i}+\\frac{\\partial f}{\\partial y} \\bar{j}$ 。                   \n",
    "例子：请你计算$f(x,y) = x^2 + y^2$的梯度向量。"
   ]
  },
  {
   "cell_type": "markdown",
   "metadata": {},
   "source": [
    "## 3.4 雅克比矩阵(Jacobian矩阵)"
   ]
  },
  {
   "cell_type": "markdown",
   "metadata": {},
   "source": [
    "假设 $F: \\mathbb{R}_{n} \\rightarrow \\mathbb{R}_{m}$ 是一个从n维欧氏空间映射到到m维欧氏空间的函数。                  \n",
    "这个函数由m个实函数组成:\n",
    "$y_{1}\\left(x_{1}, \\cdots, x_{n}\\right), \\cdots, y_{m}\\left(x_{1}, \\cdots, x_{n}\\right)$ 。这些函数的偏导数(如果存在)可以组成一个m行n列的矩阵，这个矩阵就是所谓的雅可 比矩阵:\n",
    "$$\n",
    "\\left[\\begin{array}{ccc}\n",
    "\\frac{\\partial y_{1}}{\\partial x_{1}} & \\cdots & \\frac{\\partial y_{1}}{\\partial x_{n}} \\\\\n",
    "\\vdots & \\ddots & \\vdots \\\\\n",
    "\\frac{\\partial y_{m}}{\\partial x_{1}} & \\cdots & \\frac{\\partial y_{m}}{\\partial x_{n}}\n",
    "\\end{array}\\right]\n",
    "$$\n",
    "**可见，梯度向量是雅克比矩阵的特例！**                     \n",
    "例子：求$F=(f_1(x,y),f_(x,y))^T$的雅克比矩阵，其中$f_1(x,y) = 2x^2 + y^2,f_2(x,y) = x^2 + 3y^2$。"
   ]
  },
  {
   "cell_type": "markdown",
   "metadata": {},
   "source": [
    "## 3.5 海森矩阵(Hessian 矩阵)"
   ]
  },
  {
   "cell_type": "markdown",
   "metadata": {},
   "source": [
    "黑塞矩阵（Hessian Matrix），又译作海森矩阵、海瑟矩阵、海塞矩阵等，是一个多元函数的二阶偏导数构成的方阵，描述了函数的局部曲率。                  \n",
    "在数学中，海森矩阵（Hessian matrix 或 Hessian）是一个自变量为向量的实值函数的二阶偏导数组成的方块矩阵，假設有一实数函数\n",
    "$$\n",
    "f\\left(x_{1}, x_{2}, \\ldots, x_{n}\\right)\n",
    "$$\n",
    "如果 $f$ 所有的二阶偏导数都存在，那么 $f$ 的海森矩阵的第 $i j$ 项，即：\n",
    "$$\n",
    "H(f)_{i j}(x)=D_{i} D_{j} f(x)\n",
    "$$\n",
    "其中 $x=\\left(x_{1}, x_{2}, \\ldots, x_{n}\\right),$ 即\n",
    "$$\n",
    "H(f)=\\left[\\begin{array}{cccc}\n",
    "\\frac{\\partial^{2} f}{\\partial x_{1}^{2}} & \\frac{\\partial^{2} f}{\\partial x_{1} \\partial x_{2}} & \\cdots & \\frac{\\partial^{2} f}{\\partial x_{1} \\partial x_{n}} \\\\\n",
    "\\frac{\\partial^{2} f}{\\partial x_{2} \\partial x_{1}} & \\frac{\\partial^{2} f}{\\partial x_{2}^{2}} & \\cdots & \\frac{\\partial^{2} f}{\\partial x_{2} \\partial x_{n}} \\\\\n",
    "\\vdots & \\vdots & \\ddots & \\vdots \\\\\n",
    "\\frac{\\partial^{2} f}{\\partial x_{n} \\partial x_{1}} & \\frac{\\partial^{2} f}{\\partial x_{n} \\partial x_{2}} & \\cdots & \\frac{\\partial^{2} f}{\\partial x_{n}^{2}}\n",
    "\\end{array}\\right]\n",
    "$$\n",
    "实际上，Hessian矩阵是梯度向量g(x)对自变量x的Jacobian矩阵。                            \n",
    "例子：求$f(x,y)=2x^2+y^2$的海森矩阵。"
   ]
  },
  {
   "cell_type": "markdown",
   "metadata": {},
   "source": [
    "# 4.函数的极值问题"
   ]
  },
  {
   "cell_type": "markdown",
   "metadata": {},
   "source": [
    "## 4.1 函数的极值与最值的概念"
   ]
  },
  {
   "cell_type": "markdown",
   "metadata": {},
   "source": [
    "极值：设函数 $f(x)$ 在点 $x_{0}$ 的某邻域 $U\\left(x_{0}\\right)$ 内有定义，如果对于去心邻域U $\\left(x_{0}\\right)$ 内的任一 $x$, 有 A\n",
    "$$\n",
    "f(x)<f\\left(x_{0}\\right) \\text { 或 } f(x)>f\\left(x_{0}\\right)\n",
    "$$\n",
    "那么就称 $f\\left(x_{0}\\right)$ 是函数的一个极大值或极小值。函数的极大值和极小值统称为函数的极值, 使函数取得极值的点被称作极值点。\n",
    "\n",
    "![jupyter](./image/gs/1.jpg)\n",
    "\n",
    "最值是函数在其定义域内取得最大值（或最小值）的点的函数值。极值是局部性的概念，而最值是全局性的概念。"
   ]
  },
  {
   "cell_type": "markdown",
   "metadata": {},
   "source": [
    "## 4.2 最优性条件"
   ]
  },
  {
   "cell_type": "markdown",
   "metadata": {},
   "source": [
    "### 一元函数框架下：\n",
    "1.判定极值的一阶充分条件：              \n",
    "设函数 $f(x)$ 在 $x_{0}$ 处连续，且在 $x_{0}$ 的某去心邻域 $U\\left(x_{0}, \\delta\\right)$ 内可导                        \n",
    "(1) 若 $x \\in\\left(x_{0}-\\delta, x_{0}\\right)$ 时, $f^{\\prime}(x)>0,$ 而 $x \\in\\left(x_{0}, x_{0}+\\delta\\right)$ 时， $f^{\\prime}(x)<0,$ 则 $f(x)$ 在 $x_{0}$ 处取得极大值;                      \n",
    "(2) 若 $x \\in\\left(x_{0}-\\delta, x_{0}\\right)$ 时， $f^{\\prime}(x)<0$,而 $x \\in\\left(x_{0}, x_{0}+\\delta\\right)$ 时， $f^{\\prime}(x)>0$,则 $f(x)$ 在 $x_{0}$ 处取得极小值                      \n",
    "(3) 若 $x \\in \\dot{U}\\left(x_{0}, \\delta\\right)$ 时, $f^{\\prime}(x)$ 的符号保持不变，则 $f(x)$ 在 $x_{0}$ 处没有极值                     \n",
    "\n",
    "![jupyter](./image/gs/6.png)\n",
    "\n",
    "2.判定极值的二阶充分条件：\n",
    "设函数 $f(x)$ 在 $x_{0}$ 处具有二阶导数且 $f^{\\prime}\\left(x_{0}\\right)=0, \\quad f^{\\prime \\prime}\\left(x_{0}\\right) \\neq 0$ 那么：               \n",
    "(1) 当 $f^{\\prime \\prime}\\left(x_{0}\\right)<0$ 时，函数 $f(x)$ 在 $x_{0}$ 处取得极大值;                  \n",
    "(2) 当 $f^{\\prime \\prime}\\left(x_{0}\\right)>0$ 时，函数 $f(x)$ 在 $x_{0}$ 处取得极小值.              \n",
    "\n",
    "### 多元函数框架下\n",
    "\n",
    "定理：（二元函数取得极值的充分条件）如果函数 $z=f(x, y)$ 在点 $\\left(x_{0}, y_{0}\\right)$ 的某邻域内具有连续的二阶偏导数, $\\left(x_{0}, y_{0}\\right)$ 是它的驻点，令：           \n",
    "$$\n",
    "\\begin{array}{c}\n",
    "A=f_{x x}\\left(x_{0}, y_{0}\\right), B=f_{x y}\\left(x_{0}, y_{0}\\right), C=f_{y y}\\left(x_{0}, y_{0}\\right) \\\\\n",
    "\\Delta=B^{2}-A C\n",
    "\\end{array}\n",
    "$$\n",
    "则:                      \n",
    "(1)当$\\Delta<0$ 时， $f(x, y)$ 在 $\\left(x_{0}, y_{0}\\right)$ 取得极值. 其中 $A>0$ 时取极小值, $A<0$ 时取极大值.             \n",
    "(2)当 $\\Delta>0$ 时, $f\\left(x_{0}, y_{0}\\right)$ 不是极值.                \n",
    "(3)当 $\\Delta=0$ 时, 不能确定，需进一步判断.                 \n",
    "\n",
    "更加严谨的表述：                     \n",
    "设n多元实函数 $f\\left(x_{1}, x_{2}, \\cdots, x_{n}\\right)$ 在点 $M_{0}\\left(a_{1}, a_{2}, \\ldots, a_{n}\\right)$ 的邻域内有二阶连续偏导，若有:\n",
    "$$\n",
    "\\left.\\frac{\\partial f}{\\partial x_{j}}\\right|_{\\left(a_{1}, a_{2}, \\ldots, a_{n}\\right)}=0, j=1,2, \\ldots, n\n",
    "$$\n",
    "并且\n",
    "$$\n",
    "A=\\left[\\begin{array}{cccc}\n",
    "\\frac{\\partial^{2} f}{\\partial x_{1}^{2}} & \\frac{\\partial^{2} f}{\\partial x_{1} \\partial x_{2}} & \\cdots & \\frac{\\partial^{2} f}{\\partial x_{1} \\partial x_{n}} \\\\\n",
    "\\frac{\\partial^{2} f}{\\partial x_{2} \\partial x_{1}} & \\frac{\\partial^{2} f}{\\partial x_{2}^{2}} & \\cdots & \\frac{\\partial^{2} f}{\\partial x_{2} \\partial x_{n}} \\\\\n",
    "\\vdots & \\vdots & \\ddots & \\vdots \\\\\n",
    "\\frac{\\partial^{2} f}{\\partial x_{n} \\partial x_{1}} & \\frac{\\partial^{2} f}{\\partial x_{n} \\partial x_{2}} & \\cdots & \\frac{\\partial^{2} f}{\\partial x_{n}^{2}}\n",
    "\\end{array}\\right]\n",
    "$$\n",
    "则有如下结果:\n",
    "(1) 当A正定矩阵时, $f\\left(x_{1}, x_{2}, \\cdots, x_{n}\\right)$ 在 $M_{0}\\left(a_{1}, a_{2}, \\ldots, a_{n}\\right)$ 处是极小值;          \n",
    "(2) 当A负定矩阵时, $f\\left(x_{1}, x_{2}, \\cdots, x_{n}\\right)$ 在 $M_{0}\\left(a_{1}, a_{2}, \\ldots, a_{n}\\right)$ 处是极大值;              \n",
    "(3) 当A不定矩阵时, $M_{0}\\left(a_{1}, a_{2}, \\ldots, a_{n}\\right)$ 不是极值点。              \n",
    "(4) 当A为半正定矩阵或半负定矩阵时, $M_{0}\\left(a_{1}, a_{2}, \\ldots, a_{n}\\right)$ 是“可疑\"极值点，尚需要利用其他方法来判定。                 \n",
    "\n",
    "例子：求三元函数 $f(x, y, z)=x^{2}+y^{2}+z^{2}+2 x+4 y-6 z$ 的极值。                             \n",
    "解: 因为 $\\frac{\\partial f}{\\partial x}=2 x+2, \\frac{\\partial f}{\\partial y}=2 y+4, \\frac{\\partial f}{\\partial z}=2 z-6,$ 故该三元函数的驻点是 (-1,-2,3) 。                     \n",
    "又因为 $\\frac{\\partial^{2} f}{\\partial x^{2}}=2, \\frac{\\partial^{2} f}{\\partial y^{2}}=2, \\frac{\\partial^{2} f}{\\partial z^{2}}=2, \\frac{\\partial^{2} f}{\\partial x \\partial y}=0, \\frac{\\partial^{2} f}{\\partial x \\partial z}=0, \\frac{\\partial^{2} f}{\\partial y \\partial z}=0$       \n",
    "故有: $A=\\left(\\begin{array}{ccc}2 & 0 & 0 \\\\ 0 & 2 & 0 \\\\ 0 & 0 & 2\\end{array}\\right)$\n",
    "因为A是正定矩阵，故 (-1,-2,3) 是极小值点，且极小值 $f(-1,-2,3)=-14$ 。"
   ]
  },
  {
   "cell_type": "markdown",
   "metadata": {},
   "source": [
    "## 4.3 求带等式约束的优化问题(拉格朗日乘子法)"
   ]
  },
  {
   "cell_type": "markdown",
   "metadata": {},
   "source": [
    "引例：                \n",
    "求表面积为 $a^{2}$ 市体积最大的长方体的体积。                                          \n",
    "方法(1)：化为无条件约束的优化问题，再使用4.2节的方法               \n",
    "设长方体的三棱的长为 $x, y, z,$ 则体积                    \n",
    "$$\n",
    "V=x y z\n",
    "$$\n",
    "又因假定表面积为 $a^{2},$ 所以自变量 $x, \\quad y, \\quad z$ 还必须满足附加条件                           \n",
    "$$\n",
    "2(x y+y z+x z)=a^{2}                      \n",
    "$$\n",
    "像这种对自变量有附加条件的极值问题称为条件极值。而没有附加条件的问题就叫无条件极值。 有条件极值可以化为无条件极值，例如上述问题，可将条件2 $2(x y+y z+x z)=a^{2},$ 用 $z$ 表成 $x, \\quad y$ 的函数                     \n",
    "$$\n",
    "z=\\frac{a^{2}-2 x y}{2(x+y)}\n",
    "$$\n",
    "再把它代人 $V=x y z$ 中，于是问题就化为求                    \n",
    "$$\n",
    "V=\\frac{x y}{2}\\left(\\frac{a^{2}-2 x y}{x+y}\\right)\n",
    "$$\n",
    "\n",
    "方法(2)：拉格朗日乘子法                  \n",
    "问题：求函数 $z=f(x, y)$ 在条件 $\\varphi(x, y)=0$ 下的极值。                  \n",
    "引入拉格朗日函数 $L(x, y)=f(x, y)+\\lambda \\varphi(x, y)$                      \n",
    "则极值点满足： $\\left\\{\\begin{array}{l}L_{x}\\left(x_{0}, y_{0}\\right)=0 \\\\ L_{y}\\left(x_{0}, y_{0}\\right)=0 \\\\ \\varphi\\left(x_{0}, y_{0}\\right)=0\\end{array}\\right.$                                     \n",
    "\n",
    "回到之前求体积的例子，已知\n",
    "$$\n",
    "2(x y+{y} z+x z)=a^{2}\n",
    "$$\n",
    "拉格朗日函数可以写成\n",
    "$$\n",
    "L(x, y, z)=x y z+\\lambda\\left(2 x y+2 y z+2 x z-a^{2}\\right)\n",
    "$$\n",
    "求其对 $x, y, z$ 的偏导数，并使之为零，得到\n",
    "$$\n",
    "\\begin{array}{l}\n",
    "y z+2 \\lambda(y+z)=0 \\\\\n",
    "x z+2 \\lambda(x+z)=0 \\\\\n",
    "x y+2 \\lambda(y+x)=0\n",
    "\\end{array}\n",
    "$$\n",
    "上面三个式子在与条件等式联立，可得\n",
    "$$\n",
    "\\frac{x}{y}=\\frac{x+z}{y+z}, \\frac{y}{z}=\\frac{x+y}{x+z}\n",
    "$$\n",
    "解得：$x=y=z=\\sqrt[3]{V_{0}}$"
   ]
  },
  {
   "cell_type": "markdown",
   "metadata": {},
   "source": [
    "# 5.泰勒公式"
   ]
  },
  {
   "cell_type": "markdown",
   "metadata": {},
   "source": [
    "泰勒公式就是用一个多项式函数去逼近一个给定的函数(即尽量使多项式函数图像拟合给定的函数图像)。如果一个非常复杂函数，想求其某点的值，直接求无法实现，这时候可以使用泰勒公式去近似的求该值，这是泰勒公式的应用之一。泰勒公式在机器学习中主要应用于梯度迭代。                \n",
    "定义：设 $n$ 是一个正整数。如果定义在一个包含a的区间上的函数 $f$ 在 $a$ 点处 $n+1$ 次可导，那么对于这个区间上的任意 $x$ 都有:\n",
    "$$\n",
    "\\begin{array}{c}\n",
    "f(x)=\\frac{f(a)}{0 !}+\\frac{f^{\\prime}(a)}{1 !}(x-a)+\\frac{f^{\\prime \\prime}(a)}{2 !}(x-a)^{2}+\\cdots+\\frac{f^{(n)}(a)}{n !}(x-a)^{n}+R_{n}(x) \\\\\n",
    "=\\sum_{n=0}^{N} \\frac{f^{(n)}(a)}{n !}(x-a)^{n}+R_{n}(x)\n",
    "\\end{array}\n",
    "$$\n",
    "其中的多项式称为函数在a处的泰勒展开式, $R_{n}(x)$ 是泰勒公式的余项。\n",
    "\n",
    "![jupyter](./image/gs/7.png)"
   ]
  },
  {
   "cell_type": "markdown",
   "metadata": {},
   "source": [
    "# 6.基于梯度的优化方法--梯度下降法              \n",
    "作业：使用梯度下降法求函数$y=cos(x)$在区间$x \\in [0,2\\pi]$的极小值点。"
   ]
  },
  {
   "cell_type": "code",
   "execution_count": 1,
   "metadata": {},
   "outputs": [
    {
     "name": "stderr",
     "output_type": "stream",
     "text": [
      "Matplotlib created a temporary config/cache directory at /tmp/matplotlib-h2vcsljh because the default path (/home/sc_user/.config/matplotlib) is not a writable directory; it is highly recommended to set the MPLCONFIGDIR environment variable to a writable directory, in particular to speed up the import of Matplotlib and to better support multiprocessing.\n"
     ]
    },
    {
     "data": {
      "image/png": "[encoded data removed]",
      "text/plain": [
       "<Figure size 432x288 with 1 Axes>"
      ]
     },
     "metadata": {
      "filenames": {
       "image/png": "/home/sc_user/workspace/jkchen/qycai/Mybooks/t1.0/ccla_analytical_pipeline/ccla_analytical_pipeline/_build/jupyter_execute/chapt/数理统计/高等数学_26_1.png"
      },
      "needs_background": "light"
     },
     "output_type": "display_data"
    },
    {
     "name": "stdout",
     "output_type": "stream",
     "text": [
      "initial x = 10.0\n",
      "arg min f(x) of x = 0.012379400392859128\n",
      "f(x) = 0.00015324955408672073\n"
     ]
    }
   ],
   "source": [
    "import numpy as np\n",
    "import matplotlib.pyplot as plt\n",
    "\n",
    "\n",
    "def f(x):\n",
    "    return np.power(x, 2)\n",
    "\n",
    "def d_f_1(x):\n",
    "    '''\n",
    "    求导数的方式1\n",
    "    '''\n",
    "    return 2.0 * x\n",
    "\n",
    "def d_f_2(f, x, delta=1e-4):\n",
    "    '''\n",
    "    求导数的第二种方法\n",
    "    '''\n",
    "    return (f(x+delta) - f(x-delta)) / (2 * delta)\n",
    "\n",
    "\n",
    "# plot the function\n",
    "xs = np.arange(-10, 11)\n",
    "plt.plot(xs, f(xs))\n",
    "\n",
    "\n",
    "learning_rate = 0.1\n",
    "max_loop = 30\n",
    "\n",
    "x_init = 10.0\n",
    "x = x_init\n",
    "lr = 0.1\n",
    "x_list = []\n",
    "for i in range(max_loop):\n",
    "    #d_f_x = d_f_1(x)\n",
    "    d_f_x = d_f_2(f, x)\n",
    "    x = x - learning_rate * d_f_x\n",
    "    x_list.append(x)\n",
    "x_list = np.array(x_list)\n",
    "plt.scatter(x_list,f(x_list),c=\"r\")\n",
    "plt.show()\n",
    "\n",
    "print('initial x =', x_init)\n",
    "print('arg min f(x) of x =', x)\n",
    "print('f(x) =', f(x))"
   ]
  },
  {
   "cell_type": "markdown",
   "metadata": {},
   "source": [
    "# 7.基于梯度的优化方法--牛顿迭代法\n",
    "作业：使用牛顿迭代法求函数$y=cos(x)$在区间$x \\in [0,2\\pi]$的极小值点。"
   ]
  },
  {
   "cell_type": "markdown",
   "metadata": {},
   "source": [
    "牛顿法：                   \n",
    "首先牛顿法是求解函数值为0时的自变量取值的方法。                         \n",
    "利用牛顿法求解目标函数的最小值其实是转化成求使目标函数的一阶导为0的参数值。这一转换的理论依据是，函数的极值点处的一阶导数为0.             \n",
    "其迭代过程是在当前位置x0求该函数的切线，该切线和x轴的交点x1，作为新的x0,重复这个过程，直到交点和函数的零点重合。此时的参数值就是使得目标函数取得极值的参数值。                     \n",
    "其迭代过程如下：                     \n",
    "\n",
    "![jupyter](./image/gs/8.png)\n",
    "\n",
    "迭代的公式如下:                 \n",
    "$$\n",
    "\\theta:=\\theta-\\alpha \\frac{\\ell^{\\prime}(\\theta)}{\\ell^{\\prime \\prime}(\\theta)}\n",
    "$$\n",
    "当$\\theta$是向量时, 牛顿法可以使用下面式子表示:                       \n",
    "$$\n",
    "\\theta:=\\theta-\\alpha H^{-1} \\nabla_{\\theta} \\ell(\\theta)\n",
    "$$\n",
    "其中$H$叫做海森矩阵，其实就是目标函数对参数$\\theta$的二阶导数。               \n",
    "\n",
    "牛顿法和梯度下降法的比较                 \n",
    "\n",
    "　　1.牛顿法：是通过求解目标函数的一阶导数为0时的参数，进而求出目标函数最小值时的参数。            \n",
    "\n",
    "　　　　　　　收敛速度很快。              \n",
    "\n",
    "　　　　　　　海森矩阵的逆在迭代过程中不断减小，可以起到逐步减小步长的效果。               \n",
    "\n",
    "　　　　　　　缺点：海森矩阵的逆计算复杂，代价比较大，因此有了拟牛顿法。                      \n",
    "\n",
    "　　2.梯度下降法：是通过梯度方向和步长，直接求解目标函数的最小值时的参数。                 \n",
    "\n",
    "　　　　　　　　　越接近最优值时，步长应该不断减小，否则会在最优值附近来回震荡。                \n",
    "\n"
   ]
  },
  {
   "cell_type": "code",
   "execution_count": 2,
   "metadata": {},
   "outputs": [
    {
     "ename": "StdinNotImplementedError",
     "evalue": "raw_input was called, but this frontend does not support input requests.",
     "output_type": "error",
     "traceback": [
      "\u001b[0;31m---------------------------------------------------------------------------\u001b[0m",
      "\u001b[0;31mStdinNotImplementedError\u001b[0m                  Traceback (most recent call last)",
      "\u001b[0;32m/tmp/ipykernel_18795/1257372207.py\u001b[0m in \u001b[0;36m<module>\u001b[0;34m\u001b[0m\n\u001b[1;32m     83\u001b[0m \u001b[0;32mif\u001b[0m \u001b[0m__name__\u001b[0m \u001b[0;34m==\u001b[0m \u001b[0;34m'__main__'\u001b[0m\u001b[0;34m:\u001b[0m\u001b[0;34m\u001b[0m\u001b[0;34m\u001b[0m\u001b[0m\n\u001b[1;32m     84\u001b[0m     \u001b[0msnt\u001b[0m \u001b[0;34m=\u001b[0m \u001b[0mRosenbrock\u001b[0m\u001b[0;34m(\u001b[0m\u001b[0;34m)\u001b[0m\u001b[0;34m\u001b[0m\u001b[0;34m\u001b[0m\u001b[0m\n\u001b[0;32m---> 85\u001b[0;31m     \u001b[0msnt\u001b[0m\u001b[0;34m.\u001b[0m\u001b[0mstart\u001b[0m\u001b[0;34m(\u001b[0m\u001b[0;34m)\u001b[0m\u001b[0;34m\u001b[0m\u001b[0;34m\u001b[0m\u001b[0m\n\u001b[0m",
      "\u001b[0;32m/tmp/ipykernel_18795/1257372207.py\u001b[0m in \u001b[0;36mstart\u001b[0;34m(self)\u001b[0m\n\u001b[1;32m     64\u001b[0m     \u001b[0;31m# 开始\u001b[0m\u001b[0;34m\u001b[0m\u001b[0;34m\u001b[0m\u001b[0m\n\u001b[1;32m     65\u001b[0m     \u001b[0;32mdef\u001b[0m \u001b[0mstart\u001b[0m\u001b[0;34m(\u001b[0m\u001b[0mself\u001b[0m\u001b[0;34m)\u001b[0m\u001b[0;34m:\u001b[0m\u001b[0;34m\u001b[0m\u001b[0;34m\u001b[0m\u001b[0m\n\u001b[0;32m---> 66\u001b[0;31m         \u001b[0mtimes\u001b[0m \u001b[0;34m=\u001b[0m \u001b[0mint\u001b[0m\u001b[0;34m(\u001b[0m\u001b[0minput\u001b[0m\u001b[0;34m(\u001b[0m\u001b[0;34m\"请输入需要随机优化的次数：\"\u001b[0m\u001b[0;34m)\u001b[0m\u001b[0;34m)\u001b[0m\u001b[0;34m\u001b[0m\u001b[0;34m\u001b[0m\u001b[0m\n\u001b[0m\u001b[1;32m     67\u001b[0m         \u001b[0malpha\u001b[0m \u001b[0;34m=\u001b[0m \u001b[0mfloat\u001b[0m\u001b[0;34m(\u001b[0m\u001b[0minput\u001b[0m\u001b[0;34m(\u001b[0m\u001b[0;34m\"请输入随机优化的步长\"\u001b[0m\u001b[0;34m)\u001b[0m\u001b[0;34m)\u001b[0m\u001b[0;34m\u001b[0m\u001b[0;34m\u001b[0m\u001b[0m\n\u001b[1;32m     68\u001b[0m         \u001b[0mz\u001b[0m \u001b[0;34m=\u001b[0m \u001b[0mself\u001b[0m\u001b[0;34m.\u001b[0m\u001b[0mdata\u001b[0m\u001b[0;34m(\u001b[0m\u001b[0;34m)\u001b[0m\u001b[0;34m\u001b[0m\u001b[0;34m\u001b[0m\u001b[0m\n",
      "\u001b[0;32m/opt/conda/lib/python3.9/site-packages/ipykernel/kernelbase.py\u001b[0m in \u001b[0;36mraw_input\u001b[0;34m(self, prompt)\u001b[0m\n\u001b[1;32m   1001\u001b[0m         \"\"\"\n\u001b[1;32m   1002\u001b[0m         \u001b[0;32mif\u001b[0m \u001b[0;32mnot\u001b[0m \u001b[0mself\u001b[0m\u001b[0;34m.\u001b[0m\u001b[0m_allow_stdin\u001b[0m\u001b[0;34m:\u001b[0m\u001b[0;34m\u001b[0m\u001b[0;34m\u001b[0m\u001b[0m\n\u001b[0;32m-> 1003\u001b[0;31m             raise StdinNotImplementedError(\n\u001b[0m\u001b[1;32m   1004\u001b[0m                 \u001b[0;34m\"raw_input was called, but this frontend does not support input requests.\"\u001b[0m\u001b[0;34m\u001b[0m\u001b[0;34m\u001b[0m\u001b[0m\n\u001b[1;32m   1005\u001b[0m             )\n",
      "\u001b[0;31mStdinNotImplementedError\u001b[0m: raw_input was called, but this frontend does not support input requests."
     ]
    }
   ],
   "source": [
    "import numpy as np\n",
    "import pandas as pd\n",
    "import matplotlib.pyplot as plt\n",
    "import time\n",
    "%matplotlib inline\n",
    "from mpl_toolkits.mplot3d import Axes3D\n",
    "class Rosenbrock():\n",
    "    def __init__(self):\n",
    "        self.x1 = np.arange(-100, 100, 0.0001)\n",
    "        self.x2 = np.arange(-100, 100, 0.0001)\n",
    "        #self.x1, self.x2 = np.meshgrid(self.x1, self.x2)\n",
    "        self.a = 1\n",
    "        self.b = 1\n",
    "        self.newton_times = 1000\n",
    "        self.answers = []\n",
    "        self.min_answer_z = []\n",
    "\n",
    "\n",
    "    # 准备数据\n",
    "    def data(self):\n",
    "        z = np.square(self.a - self.x1) + self.b * np.square(self.x2 - np.square(self.x1))\n",
    "        #print(z.shape)\n",
    "        return z\n",
    "\n",
    "    # 随机牛顿\n",
    "    def snt(self,x1,x2,z,alpha):\n",
    "        rand_init = np.random.randint(0,z.shape[0])\n",
    "        x1_init,x2_init,z_init = x1[rand_init],x2[rand_init],z[rand_init]\n",
    "        x_0 =np.array([x1_init,x2_init]).reshape((-1,1))\n",
    "        #print(x_0)\n",
    "\n",
    "\n",
    "        for i in range(self.newton_times):\n",
    "            x_i = x_0 - np.matmul(np.linalg.inv(np.array([[12*x2_init**2-4*x2_init+2,-4*x1_init],[-4*x1_init,2]])),np.array([4*x1_init**3-4*x1_init*x2_init+2*x1_init-2,-2*x1_init**2+2*x2_init]).reshape((-1,1)))\n",
    "            x_0 = x_i\n",
    "            x1_init = x_0[0,0]\n",
    "            x2_init = x_0[1,0]\n",
    "        answer = x_0\n",
    "        return answer\n",
    "\n",
    "\n",
    "    # 绘图\n",
    "    def plot_data(self,min_x1,min_x2,min_z):\n",
    "        x1 = np.arange(-100, 100, 0.1)\n",
    "        x2 = np.arange(-100, 100, 0.1)\n",
    "        x1, x2 = np.meshgrid(x1, x2)\n",
    "        a = 1\n",
    "        b = 1\n",
    "        z = np.square(a - x1) + b * np.square(x2 - np.square(x1))\n",
    "        fig4 = plt.figure()\n",
    "        ax4 = plt.axes(projection='3d')\n",
    "        ax4.plot_surface(x1, x2, z, alpha=0.3, cmap='winter')  # 生成表面， alpha 用于控制透明度\n",
    "        ax4.contour(x1, x2, z, zdir='z', offset=-3, cmap=\"rainbow\")  # 生成z方向投影，投到x-y平面\n",
    "        ax4.contour(x1, x2, z, zdir='x', offset=-6, cmap=\"rainbow\")  # 生成x方向投影，投到y-z平面\n",
    "        ax4.contour(x1, x2, z, zdir='y', offset=6, cmap=\"rainbow\")  # 生成y方向投影，投到x-z平面\n",
    "        ax4.contourf(x1, x2, z, zdir='y', offset=6, cmap=\"rainbow\")  # 生成y方向投影填充，投到x-z平面，contourf()函数\n",
    "        ax4.scatter(min_x1,min_x2,min_z,c='r')\n",
    "        # 设定显示范围\n",
    "        ax4.set_xlabel('X')\n",
    "        ax4.set_ylabel('Y')\n",
    "        ax4.set_zlabel('Z')\n",
    "        plt.show()\n",
    "\n",
    "    # 开始\n",
    "    def start(self):\n",
    "        times = int(input(\"请输入需要随机优化的次数：\"))\n",
    "        alpha = float(input(\"请输入随机优化的步长\"))\n",
    "        z = self.data()\n",
    "        start_time = time.time()\n",
    "        for i in range(times):\n",
    "            answer = self.snt(self.x1,self.x2,z,alpha)\n",
    "            self.answers.append(answer)\n",
    "        min_answer = np.array(self.answers)\n",
    "        for i in range(times):\n",
    "            self.min_answer_z.append((1-min_answer[i,0,0])**2+(min_answer[i,1,0]-min_answer[i,0,0]**2)**2)\n",
    "        optimal_z = np.min(np.array(self.min_answer_z))\n",
    "        optimal_z_index = np.argmin(np.array(self.min_answer_z))\n",
    "        optimal_x1,optimal_x2 = min_answer[optimal_z_index,0,0],min_answer[optimal_z_index,1,0]\n",
    "        end_time = time.time()\n",
    "        running_time = end_time-start_time\n",
    "        print(\"优化的时间:%.2f秒!\" % running_time)\n",
    "        self.plot_data(optimal_x1,optimal_x2,optimal_z)\n",
    "if __name__ == '__main__':\n",
    "    snt = Rosenbrock()\n",
    "    snt.start()"
   ]
  },
  {
   "cell_type": "code",
   "execution_count": null,
   "metadata": {},
   "outputs": [],
   "source": []
  }
 ],
 "metadata": {
  "kernelspec": {
   "display_name": "Python 3 (ipykernel)",
   "language": "python",
   "name": "python3"
  },
  "language_info": {
   "codemirror_mode": {
    "name": "ipython",
    "version": 3
   },
   "file_extension": ".py",
   "mimetype": "text/x-python",
   "name": "python",
   "nbconvert_exporter": "python",
   "pygments_lexer": "ipython3",
   "version": "3.9.7"
  }
 },
 "nbformat": 4,
 "nbformat_minor": 4
}